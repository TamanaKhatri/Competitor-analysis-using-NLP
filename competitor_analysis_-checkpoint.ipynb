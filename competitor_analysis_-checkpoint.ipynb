{
 "cells": [
  {
   "cell_type": "markdown",
   "id": "2d2be632",
   "metadata": {},
   "source": [
    "# Mapping the beauty landscape - a competitor analysis for Nykaa"
   ]
  },
  {
   "cell_type": "markdown",
   "id": "3613ca40",
   "metadata": {},
   "source": [
    "###### The aim of this project is to perform a competitor analysis, enabling businesses to maintain a competitive edge over the others. This project aims at performing comparative analysis on Myntra  - Nykaa's competitor"
   ]
  },
  {
   "cell_type": "markdown",
   "id": "d89509c0",
   "metadata": {},
   "source": [
    "##### In the rapidly growing e-commerce sector in India, the beauty and cosmetics segment has seen an unprecedented surge. Nykaa, being a dedicated platform for beauty and fashion, has become a market leader in this niche. However, platforms like Myntra, initially rooted in apparel, are diversifying and making significant strides in the beauty segment. To ensure sustained leadership, a granular understanding of the competitor's strategies, offerings, and customer perception is crucial. This model will help Nykaa to retain its position as the market leader"
   ]
  },
  {
   "cell_type": "markdown",
   "id": "3a959d86",
   "metadata": {},
   "source": [
    "#### Importing the required libraries and dependencies"
   ]
  },
  {
   "cell_type": "code",
   "execution_count": 29,
   "id": "3cee256c",
   "metadata": {},
   "outputs": [],
   "source": [
    "import pandas as pd\n",
    "import numpy as np\n",
    "import re\n",
    "import nltk\n",
    "from nltk.corpus import stopwords\n",
    "from nltk.tokenize import word_tokenize\n",
    "import spacy\n",
    "import matplotlib.pyplot as plt\n",
    "from gensim.models import CoherenceModel\n",
    "import gensim\n",
    "from gensim import corpora\n",
    "from google_play_scraper import app, reviews, Sort"
   ]
  },
  {
   "cell_type": "code",
   "execution_count": 61,
   "id": "2426e1e0",
   "metadata": {},
   "outputs": [],
   "source": [
    "from transformers import AutoTokenizer, AutoModelForSequenceClassification\n",
    "import torch"
   ]
  },
  {
   "cell_type": "code",
   "execution_count": null,
   "id": "ce2d55d7",
   "metadata": {},
   "outputs": [],
   "source": [
    "!python -m spacy download en "
   ]
  },
  {
   "cell_type": "code",
   "execution_count": 2,
   "id": "faf7ddbb",
   "metadata": {},
   "outputs": [
    {
     "name": "stderr",
     "output_type": "stream",
     "text": [
      "[nltk_data] Downloading package punkt to\n",
      "[nltk_data]     C:\\Users\\khatr\\AppData\\Roaming\\nltk_data...\n",
      "[nltk_data]   Package punkt is already up-to-date!\n",
      "[nltk_data] Downloading package stopwords to\n",
      "[nltk_data]     C:\\Users\\khatr\\AppData\\Roaming\\nltk_data...\n",
      "[nltk_data]   Package stopwords is already up-to-date!\n",
      "[nltk_data] Downloading package wordnet to\n",
      "[nltk_data]     C:\\Users\\khatr\\AppData\\Roaming\\nltk_data...\n",
      "[nltk_data]   Package wordnet is already up-to-date!\n"
     ]
    },
    {
     "data": {
      "text/plain": [
       "True"
      ]
     },
     "execution_count": 2,
     "metadata": {},
     "output_type": "execute_result"
    }
   ],
   "source": [
    "nltk.download('punkt')\n",
    "nltk.download('stopwords')\n",
    "nltk.download('wordnet')"
   ]
  },
  {
   "cell_type": "markdown",
   "id": "80971a8d",
   "metadata": {},
   "source": [
    "### Data acquistion"
   ]
  },
  {
   "cell_type": "code",
   "execution_count": 27,
   "id": "400d4a6d",
   "metadata": {},
   "outputs": [],
   "source": [
    "app_id = 'com.myntra.android' \n",
    "\n",
    "result, continuation_token = reviews(\n",
    "    app_id,\n",
    "    lang='en',\n",
    "    country='us',\n",
    "    sort=Sort.MOST_RELEVANT,\n",
    "    count=5000\n",
    ")"
   ]
  },
  {
   "cell_type": "code",
   "execution_count": 28,
   "id": "b0f79c3e",
   "metadata": {},
   "outputs": [],
   "source": [
    "import pandas as pd\n",
    "reviews_df = pd.DataFrame(result)"
   ]
  },
  {
   "cell_type": "code",
   "execution_count": null,
   "id": "54eea127",
   "metadata": {},
   "outputs": [],
   "source": [
    "reviews_df.to_csv('myntra_review.csv')"
   ]
  },
  {
   "cell_type": "markdown",
   "id": "224bf6ab",
   "metadata": {},
   "source": [
    "###### Loading the scrapped dataset"
   ]
  },
  {
   "cell_type": "code",
   "execution_count": 30,
   "id": "ddd8220f",
   "metadata": {},
   "outputs": [],
   "source": [
    "df = pd.read_csv('myntra_reviews.csv',index_col=0)"
   ]
  },
  {
   "cell_type": "code",
   "execution_count": 31,
   "id": "bd18827b",
   "metadata": {},
   "outputs": [
    {
     "data": {
      "text/html": [
       "<div>\n",
       "<style scoped>\n",
       "    .dataframe tbody tr th:only-of-type {\n",
       "        vertical-align: middle;\n",
       "    }\n",
       "\n",
       "    .dataframe tbody tr th {\n",
       "        vertical-align: top;\n",
       "    }\n",
       "\n",
       "    .dataframe thead th {\n",
       "        text-align: right;\n",
       "    }\n",
       "</style>\n",
       "<table border=\"1\" class=\"dataframe\">\n",
       "  <thead>\n",
       "    <tr style=\"text-align: right;\">\n",
       "      <th></th>\n",
       "      <th>reviewId</th>\n",
       "      <th>userName</th>\n",
       "      <th>userImage</th>\n",
       "      <th>content</th>\n",
       "      <th>score</th>\n",
       "      <th>thumbsUpCount</th>\n",
       "      <th>reviewCreatedVersion</th>\n",
       "      <th>at</th>\n",
       "      <th>replyContent</th>\n",
       "      <th>repliedAt</th>\n",
       "      <th>appVersion</th>\n",
       "    </tr>\n",
       "  </thead>\n",
       "  <tbody>\n",
       "    <tr>\n",
       "      <th>0</th>\n",
       "      <td>dd3c249a-55a8-4af6-b4fc-1a6e5c5360da</td>\n",
       "      <td>Maitreyee G</td>\n",
       "      <td>https://play-lh.googleusercontent.com/a-/ALV-U...</td>\n",
       "      <td>Absolutely love the variety of options, the UX...</td>\n",
       "      <td>5</td>\n",
       "      <td>201</td>\n",
       "      <td>4.2308.20</td>\n",
       "      <td>2023-10-01 00:20:39</td>\n",
       "      <td>NaN</td>\n",
       "      <td>NaN</td>\n",
       "      <td>4.2308.20</td>\n",
       "    </tr>\n",
       "    <tr>\n",
       "      <th>1</th>\n",
       "      <td>95605b53-678d-4a4d-864a-3b36f86349a2</td>\n",
       "      <td>jaideep khanduja (TechByte)</td>\n",
       "      <td>https://play-lh.googleusercontent.com/a-/ALV-U...</td>\n",
       "      <td>This is the only platform I have seen out of a...</td>\n",
       "      <td>1</td>\n",
       "      <td>1162</td>\n",
       "      <td>4.2309.10</td>\n",
       "      <td>2023-09-11 08:11:01</td>\n",
       "      <td>Hey! Give us an opportunity to put things righ...</td>\n",
       "      <td>2023-09-11 08:16:29</td>\n",
       "      <td>4.2309.10</td>\n",
       "    </tr>\n",
       "    <tr>\n",
       "      <th>2</th>\n",
       "      <td>6dcda3c7-a6f7-48d1-a57e-15a0c0dc9aec</td>\n",
       "      <td>Nikhil Royya</td>\n",
       "      <td>https://play-lh.googleusercontent.com/a-/ALV-U...</td>\n",
       "      <td>Worst shopping experience I ever had. Everytim...</td>\n",
       "      <td>1</td>\n",
       "      <td>11</td>\n",
       "      <td>4.2309.20</td>\n",
       "      <td>2023-10-01 00:14:45</td>\n",
       "      <td>Hey! Give us an opportunity to put things righ...</td>\n",
       "      <td>2023-10-01 00:26:10</td>\n",
       "      <td>4.2309.20</td>\n",
       "    </tr>\n",
       "    <tr>\n",
       "      <th>3</th>\n",
       "      <td>aae82d3e-7603-49b8-bb82-eef0abd7b823</td>\n",
       "      <td>Sunita Maurya</td>\n",
       "      <td>https://play-lh.googleusercontent.com/a/ACg8oc...</td>\n",
       "      <td>Myntra has always been a very convenient app f...</td>\n",
       "      <td>3</td>\n",
       "      <td>546</td>\n",
       "      <td>4.2309.10</td>\n",
       "      <td>2023-09-05 19:14:58</td>\n",
       "      <td>Hello! We always believe in building a great e...</td>\n",
       "      <td>2023-09-05 19:16:28</td>\n",
       "      <td>4.2309.10</td>\n",
       "    </tr>\n",
       "    <tr>\n",
       "      <th>4</th>\n",
       "      <td>910d783b-7fbe-4b36-9918-4277a993d899</td>\n",
       "      <td>ankita goyal</td>\n",
       "      <td>https://play-lh.googleusercontent.com/a/ACg8oc...</td>\n",
       "      <td>The app is getting worse...very bad customer s...</td>\n",
       "      <td>1</td>\n",
       "      <td>10</td>\n",
       "      <td>4.2309.20</td>\n",
       "      <td>2023-10-01 14:30:22</td>\n",
       "      <td>Hey! Give us an opportunity to put things righ...</td>\n",
       "      <td>2023-10-01 14:36:09</td>\n",
       "      <td>4.2309.20</td>\n",
       "    </tr>\n",
       "    <tr>\n",
       "      <th>...</th>\n",
       "      <td>...</td>\n",
       "      <td>...</td>\n",
       "      <td>...</td>\n",
       "      <td>...</td>\n",
       "      <td>...</td>\n",
       "      <td>...</td>\n",
       "      <td>...</td>\n",
       "      <td>...</td>\n",
       "      <td>...</td>\n",
       "      <td>...</td>\n",
       "      <td>...</td>\n",
       "    </tr>\n",
       "    <tr>\n",
       "      <th>4995</th>\n",
       "      <td>5ec367e2-942e-4b76-9cb2-f54c4a187a72</td>\n",
       "      <td>Nk Praveen</td>\n",
       "      <td>https://play-lh.googleusercontent.com/a-/ALV-U...</td>\n",
       "      <td>Very poor delivery agents and issue is repeate...</td>\n",
       "      <td>1</td>\n",
       "      <td>0</td>\n",
       "      <td>4.2307.10</td>\n",
       "      <td>2023-07-16 11:37:23</td>\n",
       "      <td>Hi, we wish to turn around your experience. Pl...</td>\n",
       "      <td>2023-07-16 11:36:29</td>\n",
       "      <td>4.2307.10</td>\n",
       "    </tr>\n",
       "    <tr>\n",
       "      <th>4996</th>\n",
       "      <td>c1230b04-7c33-4f5d-859b-47d253424c9f</td>\n",
       "      <td>kartikeya singh</td>\n",
       "      <td>https://play-lh.googleusercontent.com/a/ACg8oc...</td>\n",
       "      <td>Nice experience overall. A little more persona...</td>\n",
       "      <td>4</td>\n",
       "      <td>0</td>\n",
       "      <td>4.2304.21</td>\n",
       "      <td>2023-05-16 22:40:53</td>\n",
       "      <td>NaN</td>\n",
       "      <td>NaN</td>\n",
       "      <td>4.2304.21</td>\n",
       "    </tr>\n",
       "    <tr>\n",
       "      <th>4997</th>\n",
       "      <td>e1e95ff9-d287-40a2-a2c9-457973483a46</td>\n",
       "      <td>Soumita Ghosh</td>\n",
       "      <td>https://play-lh.googleusercontent.com/a/ACg8oc...</td>\n",
       "      <td>My order was misplaced/lost, yet it was being ...</td>\n",
       "      <td>1</td>\n",
       "      <td>0</td>\n",
       "      <td>4.2308.11</td>\n",
       "      <td>2023-09-14 14:36:28</td>\n",
       "      <td>Hey! Give us an opportunity to put things righ...</td>\n",
       "      <td>2023-09-14 14:48:08</td>\n",
       "      <td>4.2308.11</td>\n",
       "    </tr>\n",
       "    <tr>\n",
       "      <th>4998</th>\n",
       "      <td>8bb1c2d3-5cc5-40de-b885-ac66fa6af905</td>\n",
       "      <td>Manish kumar</td>\n",
       "      <td>https://play-lh.googleusercontent.com/a-/ALV-U...</td>\n",
       "      <td>Never gonna buy from myntra, worst experience ...</td>\n",
       "      <td>1</td>\n",
       "      <td>0</td>\n",
       "      <td>4.2304.11</td>\n",
       "      <td>2023-04-29 22:31:27</td>\n",
       "      <td>Hey! Give us an opportunity to put things righ...</td>\n",
       "      <td>2023-04-29 22:36:07</td>\n",
       "      <td>4.2304.11</td>\n",
       "    </tr>\n",
       "    <tr>\n",
       "      <th>4999</th>\n",
       "      <td>7075c20c-5149-4cc6-a386-e1bd292ec742</td>\n",
       "      <td>Arif Mollah</td>\n",
       "      <td>https://play-lh.googleusercontent.com/a-/ALV-U...</td>\n",
       "      <td>I got wrong different cheaper item,it is absol...</td>\n",
       "      <td>1</td>\n",
       "      <td>1</td>\n",
       "      <td>4.2305.11</td>\n",
       "      <td>2023-06-13 17:03:40</td>\n",
       "      <td>Hello there. We wish to win you back, and we w...</td>\n",
       "      <td>2023-06-09 12:16:09</td>\n",
       "      <td>4.2305.11</td>\n",
       "    </tr>\n",
       "  </tbody>\n",
       "</table>\n",
       "<p>5000 rows × 11 columns</p>\n",
       "</div>"
      ],
      "text/plain": [
       "                                  reviewId                     userName  \\\n",
       "0     dd3c249a-55a8-4af6-b4fc-1a6e5c5360da                  Maitreyee G   \n",
       "1     95605b53-678d-4a4d-864a-3b36f86349a2  jaideep khanduja (TechByte)   \n",
       "2     6dcda3c7-a6f7-48d1-a57e-15a0c0dc9aec                 Nikhil Royya   \n",
       "3     aae82d3e-7603-49b8-bb82-eef0abd7b823                Sunita Maurya   \n",
       "4     910d783b-7fbe-4b36-9918-4277a993d899                 ankita goyal   \n",
       "...                                    ...                          ...   \n",
       "4995  5ec367e2-942e-4b76-9cb2-f54c4a187a72                   Nk Praveen   \n",
       "4996  c1230b04-7c33-4f5d-859b-47d253424c9f              kartikeya singh   \n",
       "4997  e1e95ff9-d287-40a2-a2c9-457973483a46                Soumita Ghosh   \n",
       "4998  8bb1c2d3-5cc5-40de-b885-ac66fa6af905                 Manish kumar   \n",
       "4999  7075c20c-5149-4cc6-a386-e1bd292ec742                  Arif Mollah   \n",
       "\n",
       "                                              userImage  \\\n",
       "0     https://play-lh.googleusercontent.com/a-/ALV-U...   \n",
       "1     https://play-lh.googleusercontent.com/a-/ALV-U...   \n",
       "2     https://play-lh.googleusercontent.com/a-/ALV-U...   \n",
       "3     https://play-lh.googleusercontent.com/a/ACg8oc...   \n",
       "4     https://play-lh.googleusercontent.com/a/ACg8oc...   \n",
       "...                                                 ...   \n",
       "4995  https://play-lh.googleusercontent.com/a-/ALV-U...   \n",
       "4996  https://play-lh.googleusercontent.com/a/ACg8oc...   \n",
       "4997  https://play-lh.googleusercontent.com/a/ACg8oc...   \n",
       "4998  https://play-lh.googleusercontent.com/a-/ALV-U...   \n",
       "4999  https://play-lh.googleusercontent.com/a-/ALV-U...   \n",
       "\n",
       "                                                content  score  thumbsUpCount  \\\n",
       "0     Absolutely love the variety of options, the UX...      5            201   \n",
       "1     This is the only platform I have seen out of a...      1           1162   \n",
       "2     Worst shopping experience I ever had. Everytim...      1             11   \n",
       "3     Myntra has always been a very convenient app f...      3            546   \n",
       "4     The app is getting worse...very bad customer s...      1             10   \n",
       "...                                                 ...    ...            ...   \n",
       "4995  Very poor delivery agents and issue is repeate...      1              0   \n",
       "4996  Nice experience overall. A little more persona...      4              0   \n",
       "4997  My order was misplaced/lost, yet it was being ...      1              0   \n",
       "4998  Never gonna buy from myntra, worst experience ...      1              0   \n",
       "4999  I got wrong different cheaper item,it is absol...      1              1   \n",
       "\n",
       "     reviewCreatedVersion                   at  \\\n",
       "0               4.2308.20  2023-10-01 00:20:39   \n",
       "1               4.2309.10  2023-09-11 08:11:01   \n",
       "2               4.2309.20  2023-10-01 00:14:45   \n",
       "3               4.2309.10  2023-09-05 19:14:58   \n",
       "4               4.2309.20  2023-10-01 14:30:22   \n",
       "...                   ...                  ...   \n",
       "4995            4.2307.10  2023-07-16 11:37:23   \n",
       "4996            4.2304.21  2023-05-16 22:40:53   \n",
       "4997            4.2308.11  2023-09-14 14:36:28   \n",
       "4998            4.2304.11  2023-04-29 22:31:27   \n",
       "4999            4.2305.11  2023-06-13 17:03:40   \n",
       "\n",
       "                                           replyContent            repliedAt  \\\n",
       "0                                                   NaN                  NaN   \n",
       "1     Hey! Give us an opportunity to put things righ...  2023-09-11 08:16:29   \n",
       "2     Hey! Give us an opportunity to put things righ...  2023-10-01 00:26:10   \n",
       "3     Hello! We always believe in building a great e...  2023-09-05 19:16:28   \n",
       "4     Hey! Give us an opportunity to put things righ...  2023-10-01 14:36:09   \n",
       "...                                                 ...                  ...   \n",
       "4995  Hi, we wish to turn around your experience. Pl...  2023-07-16 11:36:29   \n",
       "4996                                                NaN                  NaN   \n",
       "4997  Hey! Give us an opportunity to put things righ...  2023-09-14 14:48:08   \n",
       "4998  Hey! Give us an opportunity to put things righ...  2023-04-29 22:36:07   \n",
       "4999  Hello there. We wish to win you back, and we w...  2023-06-09 12:16:09   \n",
       "\n",
       "     appVersion  \n",
       "0     4.2308.20  \n",
       "1     4.2309.10  \n",
       "2     4.2309.20  \n",
       "3     4.2309.10  \n",
       "4     4.2309.20  \n",
       "...         ...  \n",
       "4995  4.2307.10  \n",
       "4996  4.2304.21  \n",
       "4997  4.2308.11  \n",
       "4998  4.2304.11  \n",
       "4999  4.2305.11  \n",
       "\n",
       "[5000 rows x 11 columns]"
      ]
     },
     "execution_count": 31,
     "metadata": {},
     "output_type": "execute_result"
    }
   ],
   "source": [
    "df"
   ]
  },
  {
   "cell_type": "code",
   "execution_count": 32,
   "id": "cc2d7fdb",
   "metadata": {},
   "outputs": [
    {
     "data": {
      "text/plain": [
       "(5000, 11)"
      ]
     },
     "execution_count": 32,
     "metadata": {},
     "output_type": "execute_result"
    }
   ],
   "source": [
    "df.shape"
   ]
  },
  {
   "cell_type": "code",
   "execution_count": 33,
   "id": "6a9d42ab",
   "metadata": {},
   "outputs": [
    {
     "data": {
      "text/plain": [
       "Index(['reviewId', 'userName', 'userImage', 'content', 'score',\n",
       "       'thumbsUpCount', 'reviewCreatedVersion', 'at', 'replyContent',\n",
       "       'repliedAt', 'appVersion'],\n",
       "      dtype='object')"
      ]
     },
     "execution_count": 33,
     "metadata": {},
     "output_type": "execute_result"
    }
   ],
   "source": [
    "df.columns"
   ]
  },
  {
   "cell_type": "markdown",
   "id": "b90dc833",
   "metadata": {},
   "source": [
    "##### Removing the unwanted columns "
   ]
  },
  {
   "cell_type": "code",
   "execution_count": 34,
   "id": "c86a09fa",
   "metadata": {},
   "outputs": [],
   "source": [
    "df = df.drop(['reviewId', 'userName', 'userImage','thumbsUpCount', 'reviewCreatedVersion', 'at', 'replyContent',\n",
    "       'repliedAt', 'appVersion'],axis=1)"
   ]
  },
  {
   "cell_type": "code",
   "execution_count": 35,
   "id": "9dc82738",
   "metadata": {},
   "outputs": [
    {
     "data": {
      "text/html": [
       "<div>\n",
       "<style scoped>\n",
       "    .dataframe tbody tr th:only-of-type {\n",
       "        vertical-align: middle;\n",
       "    }\n",
       "\n",
       "    .dataframe tbody tr th {\n",
       "        vertical-align: top;\n",
       "    }\n",
       "\n",
       "    .dataframe thead th {\n",
       "        text-align: right;\n",
       "    }\n",
       "</style>\n",
       "<table border=\"1\" class=\"dataframe\">\n",
       "  <thead>\n",
       "    <tr style=\"text-align: right;\">\n",
       "      <th></th>\n",
       "      <th>content</th>\n",
       "      <th>score</th>\n",
       "    </tr>\n",
       "  </thead>\n",
       "  <tbody>\n",
       "    <tr>\n",
       "      <th>0</th>\n",
       "      <td>Absolutely love the variety of options, the UX...</td>\n",
       "      <td>5</td>\n",
       "    </tr>\n",
       "    <tr>\n",
       "      <th>1</th>\n",
       "      <td>This is the only platform I have seen out of a...</td>\n",
       "      <td>1</td>\n",
       "    </tr>\n",
       "    <tr>\n",
       "      <th>2</th>\n",
       "      <td>Worst shopping experience I ever had. Everytim...</td>\n",
       "      <td>1</td>\n",
       "    </tr>\n",
       "    <tr>\n",
       "      <th>3</th>\n",
       "      <td>Myntra has always been a very convenient app f...</td>\n",
       "      <td>3</td>\n",
       "    </tr>\n",
       "    <tr>\n",
       "      <th>4</th>\n",
       "      <td>The app is getting worse...very bad customer s...</td>\n",
       "      <td>1</td>\n",
       "    </tr>\n",
       "    <tr>\n",
       "      <th>...</th>\n",
       "      <td>...</td>\n",
       "      <td>...</td>\n",
       "    </tr>\n",
       "    <tr>\n",
       "      <th>4995</th>\n",
       "      <td>Very poor delivery agents and issue is repeate...</td>\n",
       "      <td>1</td>\n",
       "    </tr>\n",
       "    <tr>\n",
       "      <th>4996</th>\n",
       "      <td>Nice experience overall. A little more persona...</td>\n",
       "      <td>4</td>\n",
       "    </tr>\n",
       "    <tr>\n",
       "      <th>4997</th>\n",
       "      <td>My order was misplaced/lost, yet it was being ...</td>\n",
       "      <td>1</td>\n",
       "    </tr>\n",
       "    <tr>\n",
       "      <th>4998</th>\n",
       "      <td>Never gonna buy from myntra, worst experience ...</td>\n",
       "      <td>1</td>\n",
       "    </tr>\n",
       "    <tr>\n",
       "      <th>4999</th>\n",
       "      <td>I got wrong different cheaper item,it is absol...</td>\n",
       "      <td>1</td>\n",
       "    </tr>\n",
       "  </tbody>\n",
       "</table>\n",
       "<p>5000 rows × 2 columns</p>\n",
       "</div>"
      ],
      "text/plain": [
       "                                                content  score\n",
       "0     Absolutely love the variety of options, the UX...      5\n",
       "1     This is the only platform I have seen out of a...      1\n",
       "2     Worst shopping experience I ever had. Everytim...      1\n",
       "3     Myntra has always been a very convenient app f...      3\n",
       "4     The app is getting worse...very bad customer s...      1\n",
       "...                                                 ...    ...\n",
       "4995  Very poor delivery agents and issue is repeate...      1\n",
       "4996  Nice experience overall. A little more persona...      4\n",
       "4997  My order was misplaced/lost, yet it was being ...      1\n",
       "4998  Never gonna buy from myntra, worst experience ...      1\n",
       "4999  I got wrong different cheaper item,it is absol...      1\n",
       "\n",
       "[5000 rows x 2 columns]"
      ]
     },
     "execution_count": 35,
     "metadata": {},
     "output_type": "execute_result"
    }
   ],
   "source": [
    "df"
   ]
  },
  {
   "cell_type": "code",
   "execution_count": 36,
   "id": "a5aa555e",
   "metadata": {},
   "outputs": [
    {
     "data": {
      "text/plain": [
       "content    0\n",
       "score      0\n",
       "dtype: int64"
      ]
     },
     "execution_count": 36,
     "metadata": {},
     "output_type": "execute_result"
    }
   ],
   "source": [
    "df.isnull().sum()"
   ]
  },
  {
   "cell_type": "markdown",
   "id": "98c8063b",
   "metadata": {},
   "source": [
    "###### Total count of words"
   ]
  },
  {
   "cell_type": "code",
   "execution_count": 40,
   "id": "d1c73455",
   "metadata": {},
   "outputs": [
    {
     "name": "stdout",
     "output_type": "stream",
     "text": [
      "There are totally 237360 words present in the content columns of our dataframe\n"
     ]
    }
   ],
   "source": [
    "#count of words present in the entire reviews column\n",
    "words = ' '.join(df['content']).split()\n",
    "word_count = len(words)\n",
    "print(f'There are totally {word_count} words present in the content columns of our dataframe')"
   ]
  },
  {
   "cell_type": "markdown",
   "id": "451ffa91",
   "metadata": {},
   "source": [
    "###### Count of unique words"
   ]
  },
  {
   "cell_type": "code",
   "execution_count": 42,
   "id": "e475b561",
   "metadata": {},
   "outputs": [
    {
     "name": "stdout",
     "output_type": "stream",
     "text": [
      "There are totally 16806 unique words present in the content columns of our dataframe\n"
     ]
    }
   ],
   "source": [
    "unique_words = set(' '.join(df['content']).split())\n",
    "unique_word_count = len(unique_words)\n",
    "print(f'There are totally {unique_word_count} unique words present in the content columns of our dataframe')"
   ]
  },
  {
   "cell_type": "markdown",
   "id": "7012c47c",
   "metadata": {},
   "source": [
    "#### Data preprocessing"
   ]
  },
  {
   "cell_type": "code",
   "execution_count": 43,
   "id": "8652b1c0",
   "metadata": {},
   "outputs": [],
   "source": [
    "contractions = { \n",
    "\"bcz\": \"because\",\n",
    "\"cuz\": \"because\",\n",
    "\"cz\": \"because\",\n",
    "\"dont\" : \"do not\",\n",
    "\"ain't\": \"am not\",\n",
    "\"aren't\": \"are not\",\n",
    "\"can't\": \"cannot\",\n",
    "\"can't've\": \"cannot have\",\n",
    "\"'cause\": \"because\",\n",
    "\"could've\": \"could have\",\n",
    "\"couldn't\": \"could not\",\n",
    "\"couldn't've\": \"could not have\",\n",
    "\"didn't\": \"did not\",\n",
    "\"doesn't\": \"does not\",\n",
    "\"don't\": \"do not\",\n",
    "\"gonna\": \"going to\",\n",
    "\"hadn't\": \"had not\",\n",
    "\"hadn't've\": \"had not have\",\n",
    "\"hasn't\": \"has not\",\n",
    "\"haven't\": \"have not\",\n",
    "\"he'd\": \"he would\",\n",
    "\"he'd've\": \"he would have\",\n",
    "\"he'll\": \"he will\",\n",
    "\"he's\": \"he is\",\n",
    "\"how'd\": \"how did\",\n",
    "\"how'll\": \"how will\",\n",
    "\"how's\": \"how is\",\n",
    "\"i'd\": \"i would\",\n",
    "\"i'll\": \"i will\",\n",
    "\"i'm\": \"i am\",\n",
    "\"i've\": \"i have\",\n",
    "\"isn't\": \"is not\",\n",
    "\"it'd\": \"it would\",\n",
    "\"it'll\": \"it will\",\n",
    "\"it's\": \"it is\",\n",
    "\"let's\": \"let us\",\n",
    "\"ma'am\": \"madam\",\n",
    "\"mayn't\": \"may not\",\n",
    "\"might've\": \"might have\",\n",
    "\"mightn't\": \"might not\",\n",
    "\"must've\": \"must have\",\n",
    "\"mustn't\": \"must not\",\n",
    "\"needn't\": \"need not\",\n",
    "\"oughtn't\": \"ought not\",\n",
    "\"shan't\": \"shall not\",\n",
    "\"sha'n't\": \"shall not\",\n",
    "\"she'd\": \"she would\",\n",
    "\"she'll\": \"she will\",\n",
    "\"she's\": \"she is\",\n",
    "\"should've\": \"should have\",\n",
    "\"shouldn't\": \"should not\",\n",
    "\"that'd\": \"that would\",\n",
    "\"that's\": \"that is\",\n",
    "\"there'd\": \"there had\",\n",
    "\"there's\": \"there is\",\n",
    "\"they'd\": \"they would\",\n",
    "\"they'll\": \"they will\",\n",
    "\"they're\": \"they are\",\n",
    "\"they've\": \"they have\",\n",
    "\"wasn't\": \"was not\",\n",
    "\"we'd\": \"we would\",\n",
    "\"we'll\": \"we will\",\n",
    "\"we're\": \"we are\",\n",
    "\"we've\": \"we have\",\n",
    "\"weren't\": \"were not\",\n",
    "\"what'll\": \"what will\",\n",
    "\"what're\": \"what are\",\n",
    "\"what's\": \"what is\",\n",
    "\"what've\": \"what have\",\n",
    "\"where'd\": \"where did\",\n",
    "\"where's\": \"where is\",\n",
    "\"who'll\": \"who will\",\n",
    "\"who's\": \"who is\",\n",
    "\"won't\": \"will not\",\n",
    "\"wouldn't\": \"would not\",\n",
    "\"you'd\": \"you would\",\n",
    "\"you'll\": \"you will\",\n",
    "\"you're\": \"you are\"\n",
    "}"
   ]
  },
  {
   "cell_type": "code",
   "execution_count": 44,
   "id": "9cabb533",
   "metadata": {},
   "outputs": [],
   "source": [
    "def clean_text(text):\n",
    "    # Convert words to lower case\n",
    "    text = text.lower()\n",
    "    \n",
    "    # Replace contractions with their longer forms \n",
    "    words = text.split()\n",
    "    new_words = []\n",
    "    for word in words:\n",
    "        if word in contractions:\n",
    "            new_words.extend(contractions[word].split())\n",
    "        else:\n",
    "            new_words.append(word)\n",
    "    text = \" \".join(new_words)\n",
    "    \n",
    "    # Remove URLs\n",
    "    text = re.sub(r'https?:\\/\\/.*[\\r\\n]*', '', text, flags=re.MULTILINE)\n",
    "    \n",
    "    # Remove HTML tags\n",
    "    text = re.sub(r'<.*?>', '', text)\n",
    "    \n",
    "    # Remove other unwanted characters\n",
    "    text = re.sub(r'[_\"\\-;%()|+&=*%.,!?:#$@\\[\\]/]', ' ', text)\n",
    "    text = re.sub(r'\\'', ' ', text)\n",
    "    text = re.sub(r'\\d+', ' ', text)\n",
    "\n",
    "    # Remove emojis\n",
    "    emoji_pattern = re.compile(\"[\"\n",
    "                               u\"\\U0001F600-\\U0001F64F\"  # emoticons\n",
    "                               u\"\\U0001F300-\\U0001F5FF\"  # symbols & pictographs\n",
    "                               u\"\\U0001F680-\\U0001F6FF\"  # transport & map symbols\n",
    "                               u\"\\U0001F700-\\U0001F77F\"  # alchemical symbols\n",
    "                               u\"\\U0001F780-\\U0001F7FF\"  # Geometric Shapes Extended\n",
    "                               u\"\\U0001F800-\\U0001F8FF\"  # Supplemental Arrows-C\n",
    "                               u\"\\U0001F900-\\U0001F9FF\"  # Supplemental Symbols and Pictographs\n",
    "                               u\"\\U0001FA00-\\U0001FA6F\"  # Chess Symbols\n",
    "                               u\"\\U0001FA70-\\U0001FAFF\"  # Symbols and Pictographs Extended-A\n",
    "                               u\"\\U00002702-\\U000027B0\"  # Dingbats\n",
    "                               u\"\\U000024C2-\\U0001F251\" \n",
    "                               \"]+\", flags=re.UNICODE)\n",
    "    text = emoji_pattern.sub(r'', text)\n",
    "    \n",
    "    # Remove stop words\n",
    "    tokens = text.split()\n",
    "    stops = set(stopwords.words(\"english\"))\n",
    "    custom_stopwords = ['app','idk','even','also','day','get','one','myntra','give','still','im','got','call','ever','show','thing','u','use','back','anything','say','guyz','much','r','saying','able','something','make','guy','would','tag','given','put','two','page','another','came','told','nd','boy','went','per','rd','coz','idk','pic','ok','k','one','nt','c']\n",
    "    stops.update(custom_stopwords)\n",
    "    tokens = [token for token in tokens if token not in stops]\n",
    "    text = ' '.join(tokens)\n",
    "    \n",
    "    # Remove words that are 2 characters or shorter\n",
    "    text = ' '.join([w for w in text.split() if len(w) > 2])\n",
    "\n",
    "    return text"
   ]
  },
  {
   "cell_type": "code",
   "execution_count": 45,
   "id": "bfd01492",
   "metadata": {},
   "outputs": [],
   "source": [
    "df['cleaned_content'] = df['content'].apply(clean_text)"
   ]
  },
  {
   "cell_type": "code",
   "execution_count": 46,
   "id": "cebd85b8",
   "metadata": {},
   "outputs": [
    {
     "data": {
      "text/html": [
       "<div>\n",
       "<style scoped>\n",
       "    .dataframe tbody tr th:only-of-type {\n",
       "        vertical-align: middle;\n",
       "    }\n",
       "\n",
       "    .dataframe tbody tr th {\n",
       "        vertical-align: top;\n",
       "    }\n",
       "\n",
       "    .dataframe thead th {\n",
       "        text-align: right;\n",
       "    }\n",
       "</style>\n",
       "<table border=\"1\" class=\"dataframe\">\n",
       "  <thead>\n",
       "    <tr style=\"text-align: right;\">\n",
       "      <th></th>\n",
       "      <th>content</th>\n",
       "      <th>score</th>\n",
       "      <th>cleaned_content</th>\n",
       "    </tr>\n",
       "  </thead>\n",
       "  <tbody>\n",
       "    <tr>\n",
       "      <th>0</th>\n",
       "      <td>Absolutely love the variety of options, the UX...</td>\n",
       "      <td>5</td>\n",
       "      <td>absolutely love variety options great offers e...</td>\n",
       "    </tr>\n",
       "    <tr>\n",
       "      <th>1</th>\n",
       "      <td>This is the only platform I have seen out of a...</td>\n",
       "      <td>1</td>\n",
       "      <td>platform seen almost acts weird customer suppo...</td>\n",
       "    </tr>\n",
       "    <tr>\n",
       "      <th>2</th>\n",
       "      <td>Worst shopping experience I ever had. Everytim...</td>\n",
       "      <td>1</td>\n",
       "      <td>worst shopping experience everytime order alwa...</td>\n",
       "    </tr>\n",
       "    <tr>\n",
       "      <th>3</th>\n",
       "      <td>Myntra has always been a very convenient app f...</td>\n",
       "      <td>3</td>\n",
       "      <td>always convenient shopping convenient feature ...</td>\n",
       "    </tr>\n",
       "    <tr>\n",
       "      <th>4</th>\n",
       "      <td>The app is getting worse...very bad customer s...</td>\n",
       "      <td>1</td>\n",
       "      <td>getting worse bad customer service exchange re...</td>\n",
       "    </tr>\n",
       "    <tr>\n",
       "      <th>...</th>\n",
       "      <td>...</td>\n",
       "      <td>...</td>\n",
       "      <td>...</td>\n",
       "    </tr>\n",
       "    <tr>\n",
       "      <th>4995</th>\n",
       "      <td>Very poor delivery agents and issue is repeate...</td>\n",
       "      <td>1</td>\n",
       "      <td>poor delivery agents issue repeated many times</td>\n",
       "    </tr>\n",
       "    <tr>\n",
       "      <th>4996</th>\n",
       "      <td>Nice experience overall. A little more persona...</td>\n",
       "      <td>4</td>\n",
       "      <td>nice experience overall little personalized of...</td>\n",
       "    </tr>\n",
       "    <tr>\n",
       "      <th>4997</th>\n",
       "      <td>My order was misplaced/lost, yet it was being ...</td>\n",
       "      <td>1</td>\n",
       "      <td>order misplaced lost yet shown delivered calle...</td>\n",
       "    </tr>\n",
       "    <tr>\n",
       "      <th>4998</th>\n",
       "      <td>Never gonna buy from myntra, worst experience ...</td>\n",
       "      <td>1</td>\n",
       "      <td>never going buy worst experience every single ...</td>\n",
       "    </tr>\n",
       "    <tr>\n",
       "      <th>4999</th>\n",
       "      <td>I got wrong different cheaper item,it is absol...</td>\n",
       "      <td>1</td>\n",
       "      <td>wrong different cheaper item absolutely scam r...</td>\n",
       "    </tr>\n",
       "  </tbody>\n",
       "</table>\n",
       "<p>5000 rows × 3 columns</p>\n",
       "</div>"
      ],
      "text/plain": [
       "                                                content  score  \\\n",
       "0     Absolutely love the variety of options, the UX...      5   \n",
       "1     This is the only platform I have seen out of a...      1   \n",
       "2     Worst shopping experience I ever had. Everytim...      1   \n",
       "3     Myntra has always been a very convenient app f...      3   \n",
       "4     The app is getting worse...very bad customer s...      1   \n",
       "...                                                 ...    ...   \n",
       "4995  Very poor delivery agents and issue is repeate...      1   \n",
       "4996  Nice experience overall. A little more persona...      4   \n",
       "4997  My order was misplaced/lost, yet it was being ...      1   \n",
       "4998  Never gonna buy from myntra, worst experience ...      1   \n",
       "4999  I got wrong different cheaper item,it is absol...      1   \n",
       "\n",
       "                                        cleaned_content  \n",
       "0     absolutely love variety options great offers e...  \n",
       "1     platform seen almost acts weird customer suppo...  \n",
       "2     worst shopping experience everytime order alwa...  \n",
       "3     always convenient shopping convenient feature ...  \n",
       "4     getting worse bad customer service exchange re...  \n",
       "...                                                 ...  \n",
       "4995     poor delivery agents issue repeated many times  \n",
       "4996  nice experience overall little personalized of...  \n",
       "4997  order misplaced lost yet shown delivered calle...  \n",
       "4998  never going buy worst experience every single ...  \n",
       "4999  wrong different cheaper item absolutely scam r...  \n",
       "\n",
       "[5000 rows x 3 columns]"
      ]
     },
     "execution_count": 46,
     "metadata": {},
     "output_type": "execute_result"
    }
   ],
   "source": [
    "df"
   ]
  },
  {
   "cell_type": "code",
   "execution_count": 47,
   "id": "91344063",
   "metadata": {},
   "outputs": [],
   "source": [
    "#lemmatization\n",
    "nlp = spacy.load('en_core_web_sm', disable=['parser', 'ner'])\n",
    "def lemmatize_text(text):\n",
    "    doc = nlp(text)\n",
    "    return ' '.join([token.lemma_ for token in doc if token.pos_ in ['NOUN', 'ADJ']])"
   ]
  },
  {
   "cell_type": "code",
   "execution_count": 48,
   "id": "f1d2bd43",
   "metadata": {},
   "outputs": [],
   "source": [
    "df['cleaned_reviews'] = df['cleaned_content'].apply(lemmatize_text)"
   ]
  },
  {
   "cell_type": "code",
   "execution_count": 49,
   "id": "8c75b4f8",
   "metadata": {},
   "outputs": [
    {
     "data": {
      "text/html": [
       "<div>\n",
       "<style scoped>\n",
       "    .dataframe tbody tr th:only-of-type {\n",
       "        vertical-align: middle;\n",
       "    }\n",
       "\n",
       "    .dataframe tbody tr th {\n",
       "        vertical-align: top;\n",
       "    }\n",
       "\n",
       "    .dataframe thead th {\n",
       "        text-align: right;\n",
       "    }\n",
       "</style>\n",
       "<table border=\"1\" class=\"dataframe\">\n",
       "  <thead>\n",
       "    <tr style=\"text-align: right;\">\n",
       "      <th></th>\n",
       "      <th>content</th>\n",
       "      <th>score</th>\n",
       "      <th>cleaned_content</th>\n",
       "      <th>cleaned_reviews</th>\n",
       "    </tr>\n",
       "  </thead>\n",
       "  <tbody>\n",
       "    <tr>\n",
       "      <th>0</th>\n",
       "      <td>Absolutely love the variety of options, the UX...</td>\n",
       "      <td>5</td>\n",
       "      <td>absolutely love variety options great offers e...</td>\n",
       "      <td>variety option great offer appreciate easy ret...</td>\n",
       "    </tr>\n",
       "    <tr>\n",
       "      <th>1</th>\n",
       "      <td>This is the only platform I have seen out of a...</td>\n",
       "      <td>1</td>\n",
       "      <td>platform seen almost acts weird customer suppo...</td>\n",
       "      <td>platform weird customer support review moderat...</td>\n",
       "    </tr>\n",
       "    <tr>\n",
       "      <th>2</th>\n",
       "      <td>Worst shopping experience I ever had. Everytim...</td>\n",
       "      <td>1</td>\n",
       "      <td>worst shopping experience everytime order alwa...</td>\n",
       "      <td>bad shopping experience order order day chance...</td>\n",
       "    </tr>\n",
       "    <tr>\n",
       "      <th>3</th>\n",
       "      <td>Myntra has always been a very convenient app f...</td>\n",
       "      <td>3</td>\n",
       "      <td>always convenient shopping convenient feature ...</td>\n",
       "      <td>convenient shopping convenient feature categor...</td>\n",
       "    </tr>\n",
       "    <tr>\n",
       "      <th>4</th>\n",
       "      <td>The app is getting worse...very bad customer s...</td>\n",
       "      <td>1</td>\n",
       "      <td>getting worse bad customer service exchange re...</td>\n",
       "      <td>bad bad customer service exchange refund surpl...</td>\n",
       "    </tr>\n",
       "    <tr>\n",
       "      <th>...</th>\n",
       "      <td>...</td>\n",
       "      <td>...</td>\n",
       "      <td>...</td>\n",
       "      <td>...</td>\n",
       "    </tr>\n",
       "    <tr>\n",
       "      <th>4995</th>\n",
       "      <td>Very poor delivery agents and issue is repeate...</td>\n",
       "      <td>1</td>\n",
       "      <td>poor delivery agents issue repeated many times</td>\n",
       "      <td>poor delivery agent issue many time</td>\n",
       "    </tr>\n",
       "    <tr>\n",
       "      <th>4996</th>\n",
       "      <td>Nice experience overall. A little more persona...</td>\n",
       "      <td>4</td>\n",
       "      <td>nice experience overall little personalized of...</td>\n",
       "      <td>nice experience overall little star good</td>\n",
       "    </tr>\n",
       "    <tr>\n",
       "      <th>4997</th>\n",
       "      <td>My order was misplaced/lost, yet it was being ...</td>\n",
       "      <td>1</td>\n",
       "      <td>order misplaced lost yet shown delivered calle...</td>\n",
       "      <td>order help time sorry prepaid order money ethi...</td>\n",
       "    </tr>\n",
       "    <tr>\n",
       "      <th>4998</th>\n",
       "      <td>Never gonna buy from myntra, worst experience ...</td>\n",
       "      <td>1</td>\n",
       "      <td>never going buy worst experience every single ...</td>\n",
       "      <td>bad experience single time faulty product</td>\n",
       "    </tr>\n",
       "    <tr>\n",
       "      <th>4999</th>\n",
       "      <td>I got wrong different cheaper item,it is absol...</td>\n",
       "      <td>1</td>\n",
       "      <td>wrong different cheaper item absolutely scam r...</td>\n",
       "      <td>wrong different cheap item scam return policy ...</td>\n",
       "    </tr>\n",
       "  </tbody>\n",
       "</table>\n",
       "<p>5000 rows × 4 columns</p>\n",
       "</div>"
      ],
      "text/plain": [
       "                                                content  score  \\\n",
       "0     Absolutely love the variety of options, the UX...      5   \n",
       "1     This is the only platform I have seen out of a...      1   \n",
       "2     Worst shopping experience I ever had. Everytim...      1   \n",
       "3     Myntra has always been a very convenient app f...      3   \n",
       "4     The app is getting worse...very bad customer s...      1   \n",
       "...                                                 ...    ...   \n",
       "4995  Very poor delivery agents and issue is repeate...      1   \n",
       "4996  Nice experience overall. A little more persona...      4   \n",
       "4997  My order was misplaced/lost, yet it was being ...      1   \n",
       "4998  Never gonna buy from myntra, worst experience ...      1   \n",
       "4999  I got wrong different cheaper item,it is absol...      1   \n",
       "\n",
       "                                        cleaned_content  \\\n",
       "0     absolutely love variety options great offers e...   \n",
       "1     platform seen almost acts weird customer suppo...   \n",
       "2     worst shopping experience everytime order alwa...   \n",
       "3     always convenient shopping convenient feature ...   \n",
       "4     getting worse bad customer service exchange re...   \n",
       "...                                                 ...   \n",
       "4995     poor delivery agents issue repeated many times   \n",
       "4996  nice experience overall little personalized of...   \n",
       "4997  order misplaced lost yet shown delivered calle...   \n",
       "4998  never going buy worst experience every single ...   \n",
       "4999  wrong different cheaper item absolutely scam r...   \n",
       "\n",
       "                                        cleaned_reviews  \n",
       "0     variety option great offer appreciate easy ret...  \n",
       "1     platform weird customer support review moderat...  \n",
       "2     bad shopping experience order order day chance...  \n",
       "3     convenient shopping convenient feature categor...  \n",
       "4     bad bad customer service exchange refund surpl...  \n",
       "...                                                 ...  \n",
       "4995                poor delivery agent issue many time  \n",
       "4996           nice experience overall little star good  \n",
       "4997  order help time sorry prepaid order money ethi...  \n",
       "4998          bad experience single time faulty product  \n",
       "4999  wrong different cheap item scam return policy ...  \n",
       "\n",
       "[5000 rows x 4 columns]"
      ]
     },
     "execution_count": 49,
     "metadata": {},
     "output_type": "execute_result"
    }
   ],
   "source": [
    "df"
   ]
  },
  {
   "cell_type": "code",
   "execution_count": 50,
   "id": "89855ad2",
   "metadata": {},
   "outputs": [],
   "source": [
    "df.to_csv('myntra_cleaned_final1.csv')"
   ]
  },
  {
   "cell_type": "code",
   "execution_count": 51,
   "id": "212d92e2",
   "metadata": {},
   "outputs": [
    {
     "data": {
      "text/plain": [
       "'variety option great offer appreciate easy return exchange bad purchase far concern price item fluctuate month price lot stock trading'"
      ]
     },
     "execution_count": 51,
     "metadata": {},
     "output_type": "execute_result"
    }
   ],
   "source": [
    "df['cleaned_reviews'][0]"
   ]
  },
  {
   "cell_type": "markdown",
   "id": "8590ac97",
   "metadata": {},
   "source": [
    "###### Lets see how this has impacted our unique word count"
   ]
  },
  {
   "cell_type": "code",
   "execution_count": 52,
   "id": "6577e29e",
   "metadata": {},
   "outputs": [
    {
     "name": "stdout",
     "output_type": "stream",
     "text": [
      "There are totally 3944 unique words present in the content columns of our dataframe\n"
     ]
    }
   ],
   "source": [
    "unique_words = set(' '.join(df['cleaned_reviews']).split())\n",
    "unique_word_count = len(unique_words)\n",
    "print(f'There are totally {unique_word_count} unique words present in the content columns of our dataframe')"
   ]
  },
  {
   "cell_type": "markdown",
   "id": "a1fd4b2f",
   "metadata": {},
   "source": [
    "##### Let us see the frequencies of the words and understand the most frequent words after all the preprocessing is done"
   ]
  },
  {
   "cell_type": "code",
   "execution_count": 53,
   "id": "4020846a",
   "metadata": {},
   "outputs": [],
   "source": [
    "doc_clean = [review.split() for review in df['cleaned_reviews']]"
   ]
  },
  {
   "cell_type": "code",
   "execution_count": 55,
   "id": "2e3f6f9a",
   "metadata": {},
   "outputs": [],
   "source": [
    "from collections import Counter\n",
    "\n",
    "all_words = [word for review in doc_clean for word in review]"
   ]
  },
  {
   "cell_type": "code",
   "execution_count": 57,
   "id": "7d29f57a",
   "metadata": {},
   "outputs": [
    {
     "name": "stdout",
     "output_type": "stream",
     "text": [
      "[('product', 3446), ('customer', 2467), ('bad', 2180), ('order', 2014), ('service', 1697), ('time', 1620), ('delivery', 1569), ('return', 1196), ('experience', 1028), ('good', 1006), ('issue', 874), ('item', 848), ('care', 770), ('day', 713), ('refund', 624), ('money', 617), ('shopping', 609), ('quality', 575), ('exchange', 534), ('wrong', 506), ('support', 458), ('price', 454), ('option', 453), ('fee', 394), ('many', 359), ('update', 313), ('problem', 303), ('pathetic', 296), ('convenience', 288), ('complaint', 284), ('month', 272), ('agent', 266), ('different', 262), ('poor', 261), ('size', 254), ('date', 250), ('reason', 247), ('account', 246), ('request', 240), ('amount', 234), ('charge', 224), ('team', 221), ('last', 221), ('pickup', 217), ('online', 207), ('people', 207), ('response', 205), ('new', 204), ('fraud', 201), ('available', 198)]\n"
     ]
    }
   ],
   "source": [
    "# Get the most common words\n",
    "word_freq = Counter(all_words)\n",
    "print(word_freq.most_common(50)) "
   ]
  },
  {
   "cell_type": "markdown",
   "id": "e0331dac",
   "metadata": {},
   "source": [
    "### Sentiment analysis using Bert"
   ]
  },
  {
   "cell_type": "code",
   "execution_count": 58,
   "id": "e23e1cc9",
   "metadata": {},
   "outputs": [],
   "source": [
    "#getting the labels as per the rating scores\n",
    "def code_score(x):\n",
    "    if x<=2:\n",
    "        return('negative')\n",
    "    elif x==3:\n",
    "        return('neutral')\n",
    "    else:\n",
    "        return('positive')"
   ]
  },
  {
   "cell_type": "code",
   "execution_count": 59,
   "id": "28d2844f",
   "metadata": {},
   "outputs": [],
   "source": [
    "df['target_labels'] = df['score'].apply(code_score)"
   ]
  },
  {
   "cell_type": "code",
   "execution_count": 60,
   "id": "fa36c16a",
   "metadata": {},
   "outputs": [
    {
     "data": {
      "text/html": [
       "<div>\n",
       "<style scoped>\n",
       "    .dataframe tbody tr th:only-of-type {\n",
       "        vertical-align: middle;\n",
       "    }\n",
       "\n",
       "    .dataframe tbody tr th {\n",
       "        vertical-align: top;\n",
       "    }\n",
       "\n",
       "    .dataframe thead th {\n",
       "        text-align: right;\n",
       "    }\n",
       "</style>\n",
       "<table border=\"1\" class=\"dataframe\">\n",
       "  <thead>\n",
       "    <tr style=\"text-align: right;\">\n",
       "      <th></th>\n",
       "      <th>content</th>\n",
       "      <th>score</th>\n",
       "      <th>cleaned_content</th>\n",
       "      <th>cleaned_reviews</th>\n",
       "      <th>target_labels</th>\n",
       "    </tr>\n",
       "  </thead>\n",
       "  <tbody>\n",
       "    <tr>\n",
       "      <th>0</th>\n",
       "      <td>Absolutely love the variety of options, the UX...</td>\n",
       "      <td>5</td>\n",
       "      <td>absolutely love variety options great offers e...</td>\n",
       "      <td>variety option great offer appreciate easy ret...</td>\n",
       "      <td>positive</td>\n",
       "    </tr>\n",
       "    <tr>\n",
       "      <th>1</th>\n",
       "      <td>This is the only platform I have seen out of a...</td>\n",
       "      <td>1</td>\n",
       "      <td>platform seen almost acts weird customer suppo...</td>\n",
       "      <td>platform weird customer support review moderat...</td>\n",
       "      <td>negative</td>\n",
       "    </tr>\n",
       "    <tr>\n",
       "      <th>2</th>\n",
       "      <td>Worst shopping experience I ever had. Everytim...</td>\n",
       "      <td>1</td>\n",
       "      <td>worst shopping experience everytime order alwa...</td>\n",
       "      <td>bad shopping experience order order day chance...</td>\n",
       "      <td>negative</td>\n",
       "    </tr>\n",
       "    <tr>\n",
       "      <th>3</th>\n",
       "      <td>Myntra has always been a very convenient app f...</td>\n",
       "      <td>3</td>\n",
       "      <td>always convenient shopping convenient feature ...</td>\n",
       "      <td>convenient shopping convenient feature categor...</td>\n",
       "      <td>neutral</td>\n",
       "    </tr>\n",
       "    <tr>\n",
       "      <th>4</th>\n",
       "      <td>The app is getting worse...very bad customer s...</td>\n",
       "      <td>1</td>\n",
       "      <td>getting worse bad customer service exchange re...</td>\n",
       "      <td>bad bad customer service exchange refund surpl...</td>\n",
       "      <td>negative</td>\n",
       "    </tr>\n",
       "    <tr>\n",
       "      <th>...</th>\n",
       "      <td>...</td>\n",
       "      <td>...</td>\n",
       "      <td>...</td>\n",
       "      <td>...</td>\n",
       "      <td>...</td>\n",
       "    </tr>\n",
       "    <tr>\n",
       "      <th>4995</th>\n",
       "      <td>Very poor delivery agents and issue is repeate...</td>\n",
       "      <td>1</td>\n",
       "      <td>poor delivery agents issue repeated many times</td>\n",
       "      <td>poor delivery agent issue many time</td>\n",
       "      <td>negative</td>\n",
       "    </tr>\n",
       "    <tr>\n",
       "      <th>4996</th>\n",
       "      <td>Nice experience overall. A little more persona...</td>\n",
       "      <td>4</td>\n",
       "      <td>nice experience overall little personalized of...</td>\n",
       "      <td>nice experience overall little star good</td>\n",
       "      <td>positive</td>\n",
       "    </tr>\n",
       "    <tr>\n",
       "      <th>4997</th>\n",
       "      <td>My order was misplaced/lost, yet it was being ...</td>\n",
       "      <td>1</td>\n",
       "      <td>order misplaced lost yet shown delivered calle...</td>\n",
       "      <td>order help time sorry prepaid order money ethi...</td>\n",
       "      <td>negative</td>\n",
       "    </tr>\n",
       "    <tr>\n",
       "      <th>4998</th>\n",
       "      <td>Never gonna buy from myntra, worst experience ...</td>\n",
       "      <td>1</td>\n",
       "      <td>never going buy worst experience every single ...</td>\n",
       "      <td>bad experience single time faulty product</td>\n",
       "      <td>negative</td>\n",
       "    </tr>\n",
       "    <tr>\n",
       "      <th>4999</th>\n",
       "      <td>I got wrong different cheaper item,it is absol...</td>\n",
       "      <td>1</td>\n",
       "      <td>wrong different cheaper item absolutely scam r...</td>\n",
       "      <td>wrong different cheap item scam return policy ...</td>\n",
       "      <td>negative</td>\n",
       "    </tr>\n",
       "  </tbody>\n",
       "</table>\n",
       "<p>5000 rows × 5 columns</p>\n",
       "</div>"
      ],
      "text/plain": [
       "                                                content  score  \\\n",
       "0     Absolutely love the variety of options, the UX...      5   \n",
       "1     This is the only platform I have seen out of a...      1   \n",
       "2     Worst shopping experience I ever had. Everytim...      1   \n",
       "3     Myntra has always been a very convenient app f...      3   \n",
       "4     The app is getting worse...very bad customer s...      1   \n",
       "...                                                 ...    ...   \n",
       "4995  Very poor delivery agents and issue is repeate...      1   \n",
       "4996  Nice experience overall. A little more persona...      4   \n",
       "4997  My order was misplaced/lost, yet it was being ...      1   \n",
       "4998  Never gonna buy from myntra, worst experience ...      1   \n",
       "4999  I got wrong different cheaper item,it is absol...      1   \n",
       "\n",
       "                                        cleaned_content  \\\n",
       "0     absolutely love variety options great offers e...   \n",
       "1     platform seen almost acts weird customer suppo...   \n",
       "2     worst shopping experience everytime order alwa...   \n",
       "3     always convenient shopping convenient feature ...   \n",
       "4     getting worse bad customer service exchange re...   \n",
       "...                                                 ...   \n",
       "4995     poor delivery agents issue repeated many times   \n",
       "4996  nice experience overall little personalized of...   \n",
       "4997  order misplaced lost yet shown delivered calle...   \n",
       "4998  never going buy worst experience every single ...   \n",
       "4999  wrong different cheaper item absolutely scam r...   \n",
       "\n",
       "                                        cleaned_reviews target_labels  \n",
       "0     variety option great offer appreciate easy ret...      positive  \n",
       "1     platform weird customer support review moderat...      negative  \n",
       "2     bad shopping experience order order day chance...      negative  \n",
       "3     convenient shopping convenient feature categor...       neutral  \n",
       "4     bad bad customer service exchange refund surpl...      negative  \n",
       "...                                                 ...           ...  \n",
       "4995                poor delivery agent issue many time      negative  \n",
       "4996           nice experience overall little star good      positive  \n",
       "4997  order help time sorry prepaid order money ethi...      negative  \n",
       "4998          bad experience single time faulty product      negative  \n",
       "4999  wrong different cheap item scam return policy ...      negative  \n",
       "\n",
       "[5000 rows x 5 columns]"
      ]
     },
     "execution_count": 60,
     "metadata": {},
     "output_type": "execute_result"
    }
   ],
   "source": [
    "df"
   ]
  },
  {
   "cell_type": "markdown",
   "id": "bcc096f3",
   "metadata": {},
   "source": [
    "#### Lets apply a pre-trained bert model to perform sentiment analysis on our dataset"
   ]
  },
  {
   "cell_type": "code",
   "execution_count": 62,
   "id": "8868906b",
   "metadata": {},
   "outputs": [],
   "source": [
    "tokenizer = AutoTokenizer.from_pretrained('nlptown/bert-base-multilingual-uncased-sentiment')\n",
    "\n",
    "model = AutoModelForSequenceClassification.from_pretrained('nlptown/bert-base-multilingual-uncased-sentiment')"
   ]
  },
  {
   "cell_type": "code",
   "execution_count": 63,
   "id": "79233561",
   "metadata": {},
   "outputs": [],
   "source": [
    "def sentiment_score(review):\n",
    "    tokens = tokenizer.encode(review, return_tensors='pt')\n",
    "    result = model(tokens)\n",
    "    return int(torch.argmax(result.logits))+1"
   ]
  },
  {
   "cell_type": "code",
   "execution_count": 64,
   "id": "3fafbf54",
   "metadata": {},
   "outputs": [],
   "source": [
    "df['sentiment'] = df['cleaned_content'].apply(lambda x: sentiment_score(x[:512]))"
   ]
  },
  {
   "cell_type": "code",
   "execution_count": 65,
   "id": "504ebc3c",
   "metadata": {},
   "outputs": [
    {
     "data": {
      "text/html": [
       "<div>\n",
       "<style scoped>\n",
       "    .dataframe tbody tr th:only-of-type {\n",
       "        vertical-align: middle;\n",
       "    }\n",
       "\n",
       "    .dataframe tbody tr th {\n",
       "        vertical-align: top;\n",
       "    }\n",
       "\n",
       "    .dataframe thead th {\n",
       "        text-align: right;\n",
       "    }\n",
       "</style>\n",
       "<table border=\"1\" class=\"dataframe\">\n",
       "  <thead>\n",
       "    <tr style=\"text-align: right;\">\n",
       "      <th></th>\n",
       "      <th>content</th>\n",
       "      <th>score</th>\n",
       "      <th>cleaned_content</th>\n",
       "      <th>cleaned_reviews</th>\n",
       "      <th>target_labels</th>\n",
       "      <th>sentiment</th>\n",
       "    </tr>\n",
       "  </thead>\n",
       "  <tbody>\n",
       "    <tr>\n",
       "      <th>0</th>\n",
       "      <td>Absolutely love the variety of options, the UX...</td>\n",
       "      <td>5</td>\n",
       "      <td>absolutely love variety options great offers e...</td>\n",
       "      <td>variety option great offer appreciate easy ret...</td>\n",
       "      <td>positive</td>\n",
       "      <td>5</td>\n",
       "    </tr>\n",
       "    <tr>\n",
       "      <th>1</th>\n",
       "      <td>This is the only platform I have seen out of a...</td>\n",
       "      <td>1</td>\n",
       "      <td>platform seen almost acts weird customer suppo...</td>\n",
       "      <td>platform weird customer support review moderat...</td>\n",
       "      <td>negative</td>\n",
       "      <td>1</td>\n",
       "    </tr>\n",
       "    <tr>\n",
       "      <th>2</th>\n",
       "      <td>Worst shopping experience I ever had. Everytim...</td>\n",
       "      <td>1</td>\n",
       "      <td>worst shopping experience everytime order alwa...</td>\n",
       "      <td>bad shopping experience order order day chance...</td>\n",
       "      <td>negative</td>\n",
       "      <td>1</td>\n",
       "    </tr>\n",
       "    <tr>\n",
       "      <th>3</th>\n",
       "      <td>Myntra has always been a very convenient app f...</td>\n",
       "      <td>3</td>\n",
       "      <td>always convenient shopping convenient feature ...</td>\n",
       "      <td>convenient shopping convenient feature categor...</td>\n",
       "      <td>neutral</td>\n",
       "      <td>3</td>\n",
       "    </tr>\n",
       "    <tr>\n",
       "      <th>4</th>\n",
       "      <td>The app is getting worse...very bad customer s...</td>\n",
       "      <td>1</td>\n",
       "      <td>getting worse bad customer service exchange re...</td>\n",
       "      <td>bad bad customer service exchange refund surpl...</td>\n",
       "      <td>negative</td>\n",
       "      <td>1</td>\n",
       "    </tr>\n",
       "    <tr>\n",
       "      <th>...</th>\n",
       "      <td>...</td>\n",
       "      <td>...</td>\n",
       "      <td>...</td>\n",
       "      <td>...</td>\n",
       "      <td>...</td>\n",
       "      <td>...</td>\n",
       "    </tr>\n",
       "    <tr>\n",
       "      <th>4995</th>\n",
       "      <td>Very poor delivery agents and issue is repeate...</td>\n",
       "      <td>1</td>\n",
       "      <td>poor delivery agents issue repeated many times</td>\n",
       "      <td>poor delivery agent issue many time</td>\n",
       "      <td>negative</td>\n",
       "      <td>1</td>\n",
       "    </tr>\n",
       "    <tr>\n",
       "      <th>4996</th>\n",
       "      <td>Nice experience overall. A little more persona...</td>\n",
       "      <td>4</td>\n",
       "      <td>nice experience overall little personalized of...</td>\n",
       "      <td>nice experience overall little star good</td>\n",
       "      <td>positive</td>\n",
       "      <td>4</td>\n",
       "    </tr>\n",
       "    <tr>\n",
       "      <th>4997</th>\n",
       "      <td>My order was misplaced/lost, yet it was being ...</td>\n",
       "      <td>1</td>\n",
       "      <td>order misplaced lost yet shown delivered calle...</td>\n",
       "      <td>order help time sorry prepaid order money ethi...</td>\n",
       "      <td>negative</td>\n",
       "      <td>1</td>\n",
       "    </tr>\n",
       "    <tr>\n",
       "      <th>4998</th>\n",
       "      <td>Never gonna buy from myntra, worst experience ...</td>\n",
       "      <td>1</td>\n",
       "      <td>never going buy worst experience every single ...</td>\n",
       "      <td>bad experience single time faulty product</td>\n",
       "      <td>negative</td>\n",
       "      <td>1</td>\n",
       "    </tr>\n",
       "    <tr>\n",
       "      <th>4999</th>\n",
       "      <td>I got wrong different cheaper item,it is absol...</td>\n",
       "      <td>1</td>\n",
       "      <td>wrong different cheaper item absolutely scam r...</td>\n",
       "      <td>wrong different cheap item scam return policy ...</td>\n",
       "      <td>negative</td>\n",
       "      <td>1</td>\n",
       "    </tr>\n",
       "  </tbody>\n",
       "</table>\n",
       "<p>5000 rows × 6 columns</p>\n",
       "</div>"
      ],
      "text/plain": [
       "                                                content  score  \\\n",
       "0     Absolutely love the variety of options, the UX...      5   \n",
       "1     This is the only platform I have seen out of a...      1   \n",
       "2     Worst shopping experience I ever had. Everytim...      1   \n",
       "3     Myntra has always been a very convenient app f...      3   \n",
       "4     The app is getting worse...very bad customer s...      1   \n",
       "...                                                 ...    ...   \n",
       "4995  Very poor delivery agents and issue is repeate...      1   \n",
       "4996  Nice experience overall. A little more persona...      4   \n",
       "4997  My order was misplaced/lost, yet it was being ...      1   \n",
       "4998  Never gonna buy from myntra, worst experience ...      1   \n",
       "4999  I got wrong different cheaper item,it is absol...      1   \n",
       "\n",
       "                                        cleaned_content  \\\n",
       "0     absolutely love variety options great offers e...   \n",
       "1     platform seen almost acts weird customer suppo...   \n",
       "2     worst shopping experience everytime order alwa...   \n",
       "3     always convenient shopping convenient feature ...   \n",
       "4     getting worse bad customer service exchange re...   \n",
       "...                                                 ...   \n",
       "4995     poor delivery agents issue repeated many times   \n",
       "4996  nice experience overall little personalized of...   \n",
       "4997  order misplaced lost yet shown delivered calle...   \n",
       "4998  never going buy worst experience every single ...   \n",
       "4999  wrong different cheaper item absolutely scam r...   \n",
       "\n",
       "                                        cleaned_reviews target_labels  \\\n",
       "0     variety option great offer appreciate easy ret...      positive   \n",
       "1     platform weird customer support review moderat...      negative   \n",
       "2     bad shopping experience order order day chance...      negative   \n",
       "3     convenient shopping convenient feature categor...       neutral   \n",
       "4     bad bad customer service exchange refund surpl...      negative   \n",
       "...                                                 ...           ...   \n",
       "4995                poor delivery agent issue many time      negative   \n",
       "4996           nice experience overall little star good      positive   \n",
       "4997  order help time sorry prepaid order money ethi...      negative   \n",
       "4998          bad experience single time faulty product      negative   \n",
       "4999  wrong different cheap item scam return policy ...      negative   \n",
       "\n",
       "      sentiment  \n",
       "0             5  \n",
       "1             1  \n",
       "2             1  \n",
       "3             3  \n",
       "4             1  \n",
       "...         ...  \n",
       "4995          1  \n",
       "4996          4  \n",
       "4997          1  \n",
       "4998          1  \n",
       "4999          1  \n",
       "\n",
       "[5000 rows x 6 columns]"
      ]
     },
     "execution_count": 65,
     "metadata": {},
     "output_type": "execute_result"
    }
   ],
   "source": [
    "df"
   ]
  },
  {
   "cell_type": "code",
   "execution_count": 80,
   "id": "7e3b0d3f",
   "metadata": {},
   "outputs": [],
   "source": [
    "tokenizer.save_pretrained('./sentiment_tokenizer/')\n",
    "model.save_pretrained('./sentiment_model/')"
   ]
  },
  {
   "cell_type": "code",
   "execution_count": 67,
   "id": "eff931e3",
   "metadata": {},
   "outputs": [
    {
     "data": {
      "text/plain": [
       "'moderate product quality cloth good order low price'"
      ]
     },
     "execution_count": 67,
     "metadata": {},
     "output_type": "execute_result"
    }
   ],
   "source": [
    "df['cleaned_reviews'][4921]"
   ]
  },
  {
   "cell_type": "code",
   "execution_count": 68,
   "id": "f9904293",
   "metadata": {},
   "outputs": [],
   "source": [
    "def sentiment_labels(x):\n",
    "    if x<=2:\n",
    "        return('negative')\n",
    "    elif x==3:\n",
    "        return('neutral')\n",
    "    else:\n",
    "        return('positive')"
   ]
  },
  {
   "cell_type": "code",
   "execution_count": 69,
   "id": "433bca4b",
   "metadata": {},
   "outputs": [],
   "source": [
    "df['sentiment_label'] = df['sentiment'].apply(sentiment_labels)"
   ]
  },
  {
   "cell_type": "code",
   "execution_count": 71,
   "id": "1e191003",
   "metadata": {},
   "outputs": [],
   "source": [
    "df.drop(columns='target_labels',inplace=True)"
   ]
  },
  {
   "cell_type": "code",
   "execution_count": 72,
   "id": "9b5b2dfa",
   "metadata": {},
   "outputs": [
    {
     "data": {
      "text/html": [
       "<div>\n",
       "<style scoped>\n",
       "    .dataframe tbody tr th:only-of-type {\n",
       "        vertical-align: middle;\n",
       "    }\n",
       "\n",
       "    .dataframe tbody tr th {\n",
       "        vertical-align: top;\n",
       "    }\n",
       "\n",
       "    .dataframe thead th {\n",
       "        text-align: right;\n",
       "    }\n",
       "</style>\n",
       "<table border=\"1\" class=\"dataframe\">\n",
       "  <thead>\n",
       "    <tr style=\"text-align: right;\">\n",
       "      <th></th>\n",
       "      <th>content</th>\n",
       "      <th>score</th>\n",
       "      <th>cleaned_content</th>\n",
       "      <th>cleaned_reviews</th>\n",
       "      <th>sentiment</th>\n",
       "      <th>sentiment_label</th>\n",
       "    </tr>\n",
       "  </thead>\n",
       "  <tbody>\n",
       "    <tr>\n",
       "      <th>0</th>\n",
       "      <td>Absolutely love the variety of options, the UX...</td>\n",
       "      <td>5</td>\n",
       "      <td>absolutely love variety options great offers e...</td>\n",
       "      <td>variety option great offer appreciate easy ret...</td>\n",
       "      <td>5</td>\n",
       "      <td>positive</td>\n",
       "    </tr>\n",
       "    <tr>\n",
       "      <th>1</th>\n",
       "      <td>This is the only platform I have seen out of a...</td>\n",
       "      <td>1</td>\n",
       "      <td>platform seen almost acts weird customer suppo...</td>\n",
       "      <td>platform weird customer support review moderat...</td>\n",
       "      <td>1</td>\n",
       "      <td>negative</td>\n",
       "    </tr>\n",
       "    <tr>\n",
       "      <th>2</th>\n",
       "      <td>Worst shopping experience I ever had. Everytim...</td>\n",
       "      <td>1</td>\n",
       "      <td>worst shopping experience everytime order alwa...</td>\n",
       "      <td>bad shopping experience order order day chance...</td>\n",
       "      <td>1</td>\n",
       "      <td>negative</td>\n",
       "    </tr>\n",
       "    <tr>\n",
       "      <th>3</th>\n",
       "      <td>Myntra has always been a very convenient app f...</td>\n",
       "      <td>3</td>\n",
       "      <td>always convenient shopping convenient feature ...</td>\n",
       "      <td>convenient shopping convenient feature categor...</td>\n",
       "      <td>3</td>\n",
       "      <td>neutral</td>\n",
       "    </tr>\n",
       "    <tr>\n",
       "      <th>4</th>\n",
       "      <td>The app is getting worse...very bad customer s...</td>\n",
       "      <td>1</td>\n",
       "      <td>getting worse bad customer service exchange re...</td>\n",
       "      <td>bad bad customer service exchange refund surpl...</td>\n",
       "      <td>1</td>\n",
       "      <td>negative</td>\n",
       "    </tr>\n",
       "    <tr>\n",
       "      <th>...</th>\n",
       "      <td>...</td>\n",
       "      <td>...</td>\n",
       "      <td>...</td>\n",
       "      <td>...</td>\n",
       "      <td>...</td>\n",
       "      <td>...</td>\n",
       "    </tr>\n",
       "    <tr>\n",
       "      <th>4995</th>\n",
       "      <td>Very poor delivery agents and issue is repeate...</td>\n",
       "      <td>1</td>\n",
       "      <td>poor delivery agents issue repeated many times</td>\n",
       "      <td>poor delivery agent issue many time</td>\n",
       "      <td>1</td>\n",
       "      <td>negative</td>\n",
       "    </tr>\n",
       "    <tr>\n",
       "      <th>4996</th>\n",
       "      <td>Nice experience overall. A little more persona...</td>\n",
       "      <td>4</td>\n",
       "      <td>nice experience overall little personalized of...</td>\n",
       "      <td>nice experience overall little star good</td>\n",
       "      <td>4</td>\n",
       "      <td>positive</td>\n",
       "    </tr>\n",
       "    <tr>\n",
       "      <th>4997</th>\n",
       "      <td>My order was misplaced/lost, yet it was being ...</td>\n",
       "      <td>1</td>\n",
       "      <td>order misplaced lost yet shown delivered calle...</td>\n",
       "      <td>order help time sorry prepaid order money ethi...</td>\n",
       "      <td>1</td>\n",
       "      <td>negative</td>\n",
       "    </tr>\n",
       "    <tr>\n",
       "      <th>4998</th>\n",
       "      <td>Never gonna buy from myntra, worst experience ...</td>\n",
       "      <td>1</td>\n",
       "      <td>never going buy worst experience every single ...</td>\n",
       "      <td>bad experience single time faulty product</td>\n",
       "      <td>1</td>\n",
       "      <td>negative</td>\n",
       "    </tr>\n",
       "    <tr>\n",
       "      <th>4999</th>\n",
       "      <td>I got wrong different cheaper item,it is absol...</td>\n",
       "      <td>1</td>\n",
       "      <td>wrong different cheaper item absolutely scam r...</td>\n",
       "      <td>wrong different cheap item scam return policy ...</td>\n",
       "      <td>1</td>\n",
       "      <td>negative</td>\n",
       "    </tr>\n",
       "  </tbody>\n",
       "</table>\n",
       "<p>5000 rows × 6 columns</p>\n",
       "</div>"
      ],
      "text/plain": [
       "                                                content  score  \\\n",
       "0     Absolutely love the variety of options, the UX...      5   \n",
       "1     This is the only platform I have seen out of a...      1   \n",
       "2     Worst shopping experience I ever had. Everytim...      1   \n",
       "3     Myntra has always been a very convenient app f...      3   \n",
       "4     The app is getting worse...very bad customer s...      1   \n",
       "...                                                 ...    ...   \n",
       "4995  Very poor delivery agents and issue is repeate...      1   \n",
       "4996  Nice experience overall. A little more persona...      4   \n",
       "4997  My order was misplaced/lost, yet it was being ...      1   \n",
       "4998  Never gonna buy from myntra, worst experience ...      1   \n",
       "4999  I got wrong different cheaper item,it is absol...      1   \n",
       "\n",
       "                                        cleaned_content  \\\n",
       "0     absolutely love variety options great offers e...   \n",
       "1     platform seen almost acts weird customer suppo...   \n",
       "2     worst shopping experience everytime order alwa...   \n",
       "3     always convenient shopping convenient feature ...   \n",
       "4     getting worse bad customer service exchange re...   \n",
       "...                                                 ...   \n",
       "4995     poor delivery agents issue repeated many times   \n",
       "4996  nice experience overall little personalized of...   \n",
       "4997  order misplaced lost yet shown delivered calle...   \n",
       "4998  never going buy worst experience every single ...   \n",
       "4999  wrong different cheaper item absolutely scam r...   \n",
       "\n",
       "                                        cleaned_reviews  sentiment  \\\n",
       "0     variety option great offer appreciate easy ret...          5   \n",
       "1     platform weird customer support review moderat...          1   \n",
       "2     bad shopping experience order order day chance...          1   \n",
       "3     convenient shopping convenient feature categor...          3   \n",
       "4     bad bad customer service exchange refund surpl...          1   \n",
       "...                                                 ...        ...   \n",
       "4995                poor delivery agent issue many time          1   \n",
       "4996           nice experience overall little star good          4   \n",
       "4997  order help time sorry prepaid order money ethi...          1   \n",
       "4998          bad experience single time faulty product          1   \n",
       "4999  wrong different cheap item scam return policy ...          1   \n",
       "\n",
       "     sentiment_label  \n",
       "0           positive  \n",
       "1           negative  \n",
       "2           negative  \n",
       "3            neutral  \n",
       "4           negative  \n",
       "...              ...  \n",
       "4995        negative  \n",
       "4996        positive  \n",
       "4997        negative  \n",
       "4998        negative  \n",
       "4999        negative  \n",
       "\n",
       "[5000 rows x 6 columns]"
      ]
     },
     "execution_count": 72,
     "metadata": {},
     "output_type": "execute_result"
    }
   ],
   "source": [
    "df"
   ]
  },
  {
   "cell_type": "code",
   "execution_count": 40,
   "id": "a4ea4b87",
   "metadata": {},
   "outputs": [],
   "source": [
    "df.to_csv('myntra_sentiment_analysis.csv')"
   ]
  },
  {
   "cell_type": "code",
   "execution_count": 41,
   "id": "7fcf1b88",
   "metadata": {},
   "outputs": [
    {
     "data": {
      "text/plain": [
       "negative    77.88\n",
       "positive    17.70\n",
       "neutral      4.42\n",
       "Name: sentiment_label, dtype: float64"
      ]
     },
     "execution_count": 41,
     "metadata": {},
     "output_type": "execute_result"
    }
   ],
   "source": [
    "df['sentiment_label'].value_counts()/df.shape[0]*100"
   ]
  },
  {
   "cell_type": "code",
   "execution_count": 43,
   "id": "cc7118f7",
   "metadata": {},
   "outputs": [
    {
     "data": {
      "text/plain": [
       "negative    79.0\n",
       "positive    16.8\n",
       "neutral      4.2\n",
       "Name: target_labels, dtype: float64"
      ]
     },
     "execution_count": 43,
     "metadata": {},
     "output_type": "execute_result"
    }
   ],
   "source": [
    "df['target_labels'].value_counts()/df.shape[0]*100"
   ]
  },
  {
   "cell_type": "code",
   "execution_count": 44,
   "id": "18f926bd",
   "metadata": {},
   "outputs": [],
   "source": [
    "import seaborn as sns"
   ]
  },
  {
   "cell_type": "code",
   "execution_count": 45,
   "id": "b0f2df2a",
   "metadata": {},
   "outputs": [
    {
     "data": {
      "text/plain": [
       "<AxesSubplot:xlabel='sentiment_label', ylabel='count'>"
      ]
     },
     "execution_count": 45,
     "metadata": {},
     "output_type": "execute_result"
    },
    {
     "data": {
      "image/png": "[encoded data removed]",
      "text/plain": [
       "<Figure size 640x480 with 1 Axes>"
      ]
     },
     "metadata": {},
     "output_type": "display_data"
    }
   ],
   "source": [
    "sns.countplot(data=df,x='sentiment_label')"
   ]
  },
  {
   "cell_type": "code",
   "execution_count": 46,
   "id": "538bbfb5",
   "metadata": {},
   "outputs": [
    {
     "data": {
      "text/plain": [
       "'variety option great offer appreciate easy return exchange bad purchase far concern price item fluctuate month price lot stock trading'"
      ]
     },
     "execution_count": 46,
     "metadata": {},
     "output_type": "execute_result"
    }
   ],
   "source": [
    "df['cleaned_reviews'][0]"
   ]
  },
  {
   "cell_type": "markdown",
   "id": "127387b3",
   "metadata": {},
   "source": [
    "### Topic modelling using LDA -  Latent Dirichlet Allocation"
   ]
  },
  {
   "cell_type": "code",
   "execution_count": 73,
   "id": "ce2ded79",
   "metadata": {},
   "outputs": [],
   "source": [
    "doc_clean = [review.split() for review in df['cleaned_reviews']]"
   ]
  },
  {
   "cell_type": "code",
   "execution_count": 74,
   "id": "867263f5",
   "metadata": {},
   "outputs": [],
   "source": [
    "# Creating the term dictionary of our corpus\n",
    "dictionary = corpora.Dictionary(doc_clean)\n",
    "\n",
    "# Converting the list of documents (corpus) into Document Term Matrix\n",
    "doc_term_matrix = [dictionary.doc2bow(doc) for doc in doc_clean]"
   ]
  },
  {
   "cell_type": "code",
   "execution_count": 75,
   "id": "1a3fef1c",
   "metadata": {},
   "outputs": [],
   "source": [
    "# Create an LDA model\n",
    "lda = gensim.models.ldamodel.LdaModel\n",
    "\n",
    "# Fit the model\n",
    "ldamodel = lda(doc_term_matrix, num_topics=5,id2word = dictionary, passes=50)"
   ]
  },
  {
   "cell_type": "code",
   "execution_count": 76,
   "id": "37b79be8",
   "metadata": {},
   "outputs": [],
   "source": [
    "# Print topics\n",
    "topics = ldamodel.print_topics(num_words=5)"
   ]
  },
  {
   "cell_type": "code",
   "execution_count": 77,
   "id": "5644f1dc",
   "metadata": {},
   "outputs": [
    {
     "data": {
      "text/plain": [
       "[(0,\n",
       "  '0.116*\"order\" + 0.043*\"time\" + 0.030*\"bad\" + 0.023*\"delivery\" + 0.021*\"experience\"'),\n",
       " (1,\n",
       "  '0.046*\"good\" + 0.025*\"shopping\" + 0.025*\"item\" + 0.021*\"wishlist\" + 0.019*\"easy\"'),\n",
       " (2,\n",
       "  '0.074*\"customer\" + 0.052*\"service\" + 0.050*\"bad\" + 0.037*\"product\" + 0.033*\"delivery\"'),\n",
       " (3,\n",
       "  '0.045*\"fee\" + 0.033*\"convenience\" + 0.026*\"charge\" + 0.025*\"order\" + 0.024*\"product\"'),\n",
       " (4,\n",
       "  '0.148*\"product\" + 0.057*\"return\" + 0.043*\"quality\" + 0.041*\"good\" + 0.030*\"exchange\"')]"
      ]
     },
     "execution_count": 77,
     "metadata": {},
     "output_type": "execute_result"
    }
   ],
   "source": [
    "topics"
   ]
  },
  {
   "cell_type": "code",
   "execution_count": 74,
   "id": "c046dc40",
   "metadata": {},
   "outputs": [],
   "source": [
    "# Build LDA model\n",
    "lda = gensim.models.ldamodel.LdaModel\n",
    "lda_model = lda(corpus=doc_term_matrix,\n",
    "                     id2word=dictionary,\n",
    "                     num_topics=10,\n",
    "                     random_state=42,\n",
    "                     update_every=1,\n",
    "                     chunksize=100,\n",
    "                     passes=10,\n",
    "                     alpha='auto'\n",
    "                     )"
   ]
  },
  {
   "cell_type": "code",
   "execution_count": 75,
   "id": "16544350",
   "metadata": {},
   "outputs": [
    {
     "name": "stdout",
     "output_type": "stream",
     "text": [
      "(0, '0.059*\"convenience\" + 0.053*\"fee\" + 0.032*\"returning\" + 0.028*\"charges\" + 0.028*\"side\" + 0.024*\"defective\" + 0.024*\"charging\" + 0.023*\"within\" + 0.021*\"bank\" + 0.020*\"extra\"')\n",
      "(1, '0.043*\"response\" + 0.037*\"resolved\" + 0.032*\"proper\" + 0.029*\"star\" + 0.028*\"fake\" + 0.025*\"nice\" + 0.023*\"resolve\" + 0.023*\"rating\" + 0.020*\"review\" + 0.019*\"provided\"')\n",
      "(2, '0.052*\"love\" + 0.044*\"missing\" + 0.041*\"look\" + 0.041*\"excellent\" + 0.040*\"big\" + 0.032*\"filters\" + 0.025*\"thanks\" + 0.023*\"original\" + 0.022*\"needs\" + 0.022*\"kindly\"')\n",
      "(3, '0.073*\"wishlist\" + 0.034*\"fix\" + 0.029*\"shirt\" + 0.028*\"category\" + 0.025*\"mail\" + 0.025*\"shirts\" + 0.022*\"rupees\" + 0.020*\"everyone\" + 0.017*\"track\" + 0.017*\"collection\"')\n",
      "(4, '0.047*\"item\" + 0.026*\"help\" + 0.023*\"different\" + 0.019*\"issues\" + 0.019*\"pickup\" + 0.019*\"services\" + 0.017*\"people\" + 0.016*\"pick\" + 0.016*\"called\" + 0.013*\"application\"')\n",
      "(5, '0.073*\"working\" + 0.043*\"phone\" + 0.041*\"login\" + 0.026*\"properly\" + 0.022*\"choose\" + 0.020*\"password\" + 0.019*\"screen\" + 0.019*\"button\" + 0.018*\"asap\" + 0.018*\"filter\"')\n",
      "(6, '0.045*\"account\" + 0.034*\"amount\" + 0.027*\"trust\" + 0.026*\"charge\" + 0.022*\"site\" + 0.021*\"free\" + 0.017*\"fees\" + 0.017*\"gift\" + 0.017*\"credit\" + 0.015*\"talk\"')\n",
      "(7, '0.044*\"try\" + 0.032*\"yet\" + 0.024*\"failed\" + 0.023*\"resolution\" + 0.022*\"cheap\" + 0.021*\"brands\" + 0.020*\"delivering\" + 0.016*\"solve\" + 0.016*\"shoe\" + 0.014*\"bag\"')\n",
      "(8, '0.045*\"good\" + 0.026*\"like\" + 0.023*\"cannot\" + 0.023*\"items\" + 0.023*\"price\" + 0.020*\"option\" + 0.019*\"please\" + 0.017*\"really\" + 0.016*\"products\" + 0.015*\"getting\"')\n",
      "(9, '0.050*\"product\" + 0.042*\"customer\" + 0.038*\"order\" + 0.032*\"worst\" + 0.031*\"service\" + 0.031*\"delivery\" + 0.027*\"return\" + 0.023*\"experience\" + 0.023*\"time\" + 0.018*\"delivered\"')\n"
     ]
    }
   ],
   "source": [
    "# Print top 10 words for each topic\n",
    "for topic in lda_model.print_topics(num_topics=10, num_words=10):\n",
    "    print(topic)"
   ]
  },
  {
   "cell_type": "markdown",
   "id": "b6d28494",
   "metadata": {},
   "source": [
    "### Focussing on the negatives"
   ]
  },
  {
   "cell_type": "code",
   "execution_count": 78,
   "id": "c8785c7d",
   "metadata": {},
   "outputs": [],
   "source": [
    "df_n = df[df['sentiment_label']=='negative']"
   ]
  },
  {
   "cell_type": "code",
   "execution_count": 79,
   "id": "1d8d2abd",
   "metadata": {
    "scrolled": false
   },
   "outputs": [
    {
     "data": {
      "text/html": [
       "<div>\n",
       "<style scoped>\n",
       "    .dataframe tbody tr th:only-of-type {\n",
       "        vertical-align: middle;\n",
       "    }\n",
       "\n",
       "    .dataframe tbody tr th {\n",
       "        vertical-align: top;\n",
       "    }\n",
       "\n",
       "    .dataframe thead th {\n",
       "        text-align: right;\n",
       "    }\n",
       "</style>\n",
       "<table border=\"1\" class=\"dataframe\">\n",
       "  <thead>\n",
       "    <tr style=\"text-align: right;\">\n",
       "      <th></th>\n",
       "      <th>content</th>\n",
       "      <th>score</th>\n",
       "      <th>cleaned_content</th>\n",
       "      <th>cleaned_reviews</th>\n",
       "      <th>sentiment</th>\n",
       "      <th>sentiment_label</th>\n",
       "    </tr>\n",
       "  </thead>\n",
       "  <tbody>\n",
       "    <tr>\n",
       "      <th>1</th>\n",
       "      <td>This is the only platform I have seen out of a...</td>\n",
       "      <td>1</td>\n",
       "      <td>platform seen almost acts weird customer suppo...</td>\n",
       "      <td>platform weird customer support review moderat...</td>\n",
       "      <td>1</td>\n",
       "      <td>negative</td>\n",
       "    </tr>\n",
       "    <tr>\n",
       "      <th>2</th>\n",
       "      <td>Worst shopping experience I ever had. Everytim...</td>\n",
       "      <td>1</td>\n",
       "      <td>worst shopping experience everytime order alwa...</td>\n",
       "      <td>bad shopping experience order order day chance...</td>\n",
       "      <td>1</td>\n",
       "      <td>negative</td>\n",
       "    </tr>\n",
       "    <tr>\n",
       "      <th>4</th>\n",
       "      <td>The app is getting worse...very bad customer s...</td>\n",
       "      <td>1</td>\n",
       "      <td>getting worse bad customer service exchange re...</td>\n",
       "      <td>bad bad customer service exchange refund surpl...</td>\n",
       "      <td>1</td>\n",
       "      <td>negative</td>\n",
       "    </tr>\n",
       "    <tr>\n",
       "      <th>6</th>\n",
       "      <td>I have recently purchased around 4k and I have...</td>\n",
       "      <td>1</td>\n",
       "      <td>recently purchased around discounted card extr...</td>\n",
       "      <td>card extra time month amount payment error pay...</td>\n",
       "      <td>1</td>\n",
       "      <td>negative</td>\n",
       "    </tr>\n",
       "    <tr>\n",
       "      <th>7</th>\n",
       "      <td>Worst experience ever!!!! Coupons and sale are...</td>\n",
       "      <td>1</td>\n",
       "      <td>worst experience coupons sale marketing scams ...</td>\n",
       "      <td>bad experience coupon sale marketing scam atte...</td>\n",
       "      <td>1</td>\n",
       "      <td>negative</td>\n",
       "    </tr>\n",
       "    <tr>\n",
       "      <th>...</th>\n",
       "      <td>...</td>\n",
       "      <td>...</td>\n",
       "      <td>...</td>\n",
       "      <td>...</td>\n",
       "      <td>...</td>\n",
       "      <td>...</td>\n",
       "    </tr>\n",
       "    <tr>\n",
       "      <th>4994</th>\n",
       "      <td>Giving 1 star, just because failed to show ori...</td>\n",
       "      <td>1</td>\n",
       "      <td>giving star failed original cost product user ...</td>\n",
       "      <td>star original cost product user check move car...</td>\n",
       "      <td>1</td>\n",
       "      <td>negative</td>\n",
       "    </tr>\n",
       "    <tr>\n",
       "      <th>4995</th>\n",
       "      <td>Very poor delivery agents and issue is repeate...</td>\n",
       "      <td>1</td>\n",
       "      <td>poor delivery agents issue repeated many times</td>\n",
       "      <td>poor delivery agent issue many time</td>\n",
       "      <td>1</td>\n",
       "      <td>negative</td>\n",
       "    </tr>\n",
       "    <tr>\n",
       "      <th>4997</th>\n",
       "      <td>My order was misplaced/lost, yet it was being ...</td>\n",
       "      <td>1</td>\n",
       "      <td>order misplaced lost yet shown delivered calle...</td>\n",
       "      <td>order help time sorry prepaid order money ethi...</td>\n",
       "      <td>1</td>\n",
       "      <td>negative</td>\n",
       "    </tr>\n",
       "    <tr>\n",
       "      <th>4998</th>\n",
       "      <td>Never gonna buy from myntra, worst experience ...</td>\n",
       "      <td>1</td>\n",
       "      <td>never going buy worst experience every single ...</td>\n",
       "      <td>bad experience single time faulty product</td>\n",
       "      <td>1</td>\n",
       "      <td>negative</td>\n",
       "    </tr>\n",
       "    <tr>\n",
       "      <th>4999</th>\n",
       "      <td>I got wrong different cheaper item,it is absol...</td>\n",
       "      <td>1</td>\n",
       "      <td>wrong different cheaper item absolutely scam r...</td>\n",
       "      <td>wrong different cheap item scam return policy ...</td>\n",
       "      <td>1</td>\n",
       "      <td>negative</td>\n",
       "    </tr>\n",
       "  </tbody>\n",
       "</table>\n",
       "<p>3894 rows × 6 columns</p>\n",
       "</div>"
      ],
      "text/plain": [
       "                                                content  score  \\\n",
       "1     This is the only platform I have seen out of a...      1   \n",
       "2     Worst shopping experience I ever had. Everytim...      1   \n",
       "4     The app is getting worse...very bad customer s...      1   \n",
       "6     I have recently purchased around 4k and I have...      1   \n",
       "7     Worst experience ever!!!! Coupons and sale are...      1   \n",
       "...                                                 ...    ...   \n",
       "4994  Giving 1 star, just because failed to show ori...      1   \n",
       "4995  Very poor delivery agents and issue is repeate...      1   \n",
       "4997  My order was misplaced/lost, yet it was being ...      1   \n",
       "4998  Never gonna buy from myntra, worst experience ...      1   \n",
       "4999  I got wrong different cheaper item,it is absol...      1   \n",
       "\n",
       "                                        cleaned_content  \\\n",
       "1     platform seen almost acts weird customer suppo...   \n",
       "2     worst shopping experience everytime order alwa...   \n",
       "4     getting worse bad customer service exchange re...   \n",
       "6     recently purchased around discounted card extr...   \n",
       "7     worst experience coupons sale marketing scams ...   \n",
       "...                                                 ...   \n",
       "4994  giving star failed original cost product user ...   \n",
       "4995     poor delivery agents issue repeated many times   \n",
       "4997  order misplaced lost yet shown delivered calle...   \n",
       "4998  never going buy worst experience every single ...   \n",
       "4999  wrong different cheaper item absolutely scam r...   \n",
       "\n",
       "                                        cleaned_reviews  sentiment  \\\n",
       "1     platform weird customer support review moderat...          1   \n",
       "2     bad shopping experience order order day chance...          1   \n",
       "4     bad bad customer service exchange refund surpl...          1   \n",
       "6     card extra time month amount payment error pay...          1   \n",
       "7     bad experience coupon sale marketing scam atte...          1   \n",
       "...                                                 ...        ...   \n",
       "4994  star original cost product user check move car...          1   \n",
       "4995                poor delivery agent issue many time          1   \n",
       "4997  order help time sorry prepaid order money ethi...          1   \n",
       "4998          bad experience single time faulty product          1   \n",
       "4999  wrong different cheap item scam return policy ...          1   \n",
       "\n",
       "     sentiment_label  \n",
       "1           negative  \n",
       "2           negative  \n",
       "4           negative  \n",
       "6           negative  \n",
       "7           negative  \n",
       "...              ...  \n",
       "4994        negative  \n",
       "4995        negative  \n",
       "4997        negative  \n",
       "4998        negative  \n",
       "4999        negative  \n",
       "\n",
       "[3894 rows x 6 columns]"
      ]
     },
     "execution_count": 79,
     "metadata": {},
     "output_type": "execute_result"
    }
   ],
   "source": [
    "df_n"
   ]
  },
  {
   "cell_type": "code",
   "execution_count": 133,
   "id": "5899060e",
   "metadata": {},
   "outputs": [],
   "source": [
    "doc_clean_n = [review.split() for review in df['cleaned_reviews']]"
   ]
  },
  {
   "cell_type": "code",
   "execution_count": 135,
   "id": "3324eb32",
   "metadata": {},
   "outputs": [],
   "source": [
    "# Create the term dictionary of our corpus\n",
    "dictionary = corpora.Dictionary(doc_clean_n)\n",
    "\n",
    "# Convert list of documents (corpus) into Document Term Matrix\n",
    "doc_term_matrix = [dictionary.doc2bow(doc) for doc in doc_clean_n]\n",
    "\n",
    "# Create an LDA model\n",
    "lda = gensim.models.ldamodel.LdaModel\n",
    "\n",
    "# Fit the model\n",
    "ldamodel = lda(doc_term_matrix, num_topics=15,id2word = dictionary, passes=50)"
   ]
  },
  {
   "cell_type": "code",
   "execution_count": 137,
   "id": "02ebb09a",
   "metadata": {},
   "outputs": [],
   "source": [
    "# Print topics\n",
    "topics = ldamodel.print_topics(num_words=5)"
   ]
  },
  {
   "cell_type": "code",
   "execution_count": 138,
   "id": "b20f31e0",
   "metadata": {},
   "outputs": [
    {
     "data": {
      "text/plain": [
       "[(0,\n",
       "  '0.164*\"product\" + 0.126*\"return\" + 0.067*\"exchange\" + 0.043*\"wrong\" + 0.039*\"bad\"'),\n",
       " (1,\n",
       "  '0.074*\"fake\" + 0.035*\"offer\" + 0.028*\"free\" + 0.028*\"problem\" + 0.025*\"filter\"'),\n",
       " (2,\n",
       "  '0.108*\"fee\" + 0.079*\"convenience\" + 0.060*\"charge\" + 0.057*\"order\" + 0.055*\"price\"'),\n",
       " (3,\n",
       "  '0.066*\"number\" + 0.048*\"old\" + 0.034*\"phone\" + 0.025*\"clothe\" + 0.024*\"mobile\"'),\n",
       " (4,\n",
       "  '0.153*\"shoe\" + 0.115*\"review\" + 0.064*\"package\" + 0.024*\"pair\" + 0.022*\"refund\"'),\n",
       " (5,\n",
       "  '0.043*\"customer\" + 0.037*\"time\" + 0.031*\"return\" + 0.023*\"item\" + 0.021*\"product\"'),\n",
       " (6,\n",
       "  '0.043*\"wishlist\" + 0.032*\"slow\" + 0.031*\"category\" + 0.031*\"search\" + 0.023*\"work\"'),\n",
       " (7,\n",
       "  '0.193*\"item\" + 0.037*\"shirt\" + 0.025*\"brand\" + 0.025*\"time\" + 0.023*\"price\"'),\n",
       " (8,\n",
       "  '0.104*\"refund\" + 0.082*\"account\" + 0.080*\"money\" + 0.061*\"amount\" + 0.039*\"credit\"'),\n",
       " (9,\n",
       "  '0.177*\"order\" + 0.089*\"delivery\" + 0.057*\"time\" + 0.052*\"bad\" + 0.040*\"day\"'),\n",
       " (10,\n",
       "  '0.046*\"user\" + 0.044*\"useless\" + 0.042*\"time\" + 0.040*\"gift\" + 0.038*\"update\"'),\n",
       " (11,\n",
       "  '0.126*\"product\" + 0.117*\"bad\" + 0.044*\"time\" + 0.042*\"experience\" + 0.037*\"shopping\"'),\n",
       " (12,\n",
       "  '0.119*\"customer\" + 0.060*\"care\" + 0.058*\"bad\" + 0.045*\"service\" + 0.045*\"issue\"'),\n",
       " (13,\n",
       "  '0.108*\"customer\" + 0.092*\"service\" + 0.078*\"product\" + 0.037*\"bad\" + 0.033*\"delivery\"'),\n",
       " (14,\n",
       "  '0.122*\"application\" + 0.068*\"rating\" + 0.040*\"name\" + 0.036*\"uninstall\" + 0.031*\"trust\"')]"
      ]
     },
     "execution_count": 138,
     "metadata": {},
     "output_type": "execute_result"
    }
   ],
   "source": [
    "topics"
   ]
  },
  {
   "cell_type": "code",
   "execution_count": 139,
   "id": "daf7563b",
   "metadata": {},
   "outputs": [
    {
     "name": "stdout",
     "output_type": "stream",
     "text": [
      "\n",
      "Coherence Score:  0.389930857383784\n"
     ]
    }
   ],
   "source": [
    "coherence_model_lda = CoherenceModel(model=ldamodel, texts=doc_clean_n, dictionary=dictionary, coherence='c_v')\n",
    "coherence_lda = coherence_model_lda.get_coherence()\n",
    "print('\\nCoherence Score: ', coherence_lda)"
   ]
  },
  {
   "cell_type": "code",
   "execution_count": 140,
   "id": "6ea7d3cb",
   "metadata": {},
   "outputs": [],
   "source": [
    "coherence=[]\n",
    "for i in range(5,20):\n",
    "    lda = gensim.models.ldamodel.LdaModel\n",
    "    ldamodel = lda(doc_term_matrix, num_topics=i,id2word = dictionary, passes=50,chunksize=1000,iterations=50,eval_every=None)\n",
    "    coherence_model_lda = CoherenceModel(model=ldamodel, texts=doc_clean_n, dictionary=dictionary, coherence='c_v')\n",
    "    \n",
    "    coherence.append((i,coherence_model_lda.get_coherence()))"
   ]
  },
  {
   "cell_type": "code",
   "execution_count": 141,
   "id": "9cfbfbd4",
   "metadata": {},
   "outputs": [],
   "source": [
    "topic_n = [x[0] for x in coherence]\n",
    "coherence_score = [x[1] for x in coherence]"
   ]
  },
  {
   "cell_type": "code",
   "execution_count": 143,
   "id": "78f0149f",
   "metadata": {},
   "outputs": [
    {
     "data": {
      "image/png": "[encoded data removed]",
      "text/plain": [
       "<Figure size 640x480 with 1 Axes>"
      ]
     },
     "metadata": {},
     "output_type": "display_data"
    }
   ],
   "source": [
    "plt.plot(topic_n,coherence_score)\n",
    "plt.scatter(topic_n,coherence_score)\n",
    "plt.title('Number of Topics vs. Coherence')\n",
    "plt.xlabel('Number of Topics')\n",
    "plt.ylabel('Coherence')\n",
    "plt.xticks(topic_n)\n",
    "plt.show()"
   ]
  },
  {
   "cell_type": "markdown",
   "id": "810d5fea",
   "metadata": {},
   "source": [
    "The interpretability with topics k=10 and k=15 give a higher coherence score so we can try both and evaluate the better one"
   ]
  },
  {
   "cell_type": "code",
   "execution_count": 144,
   "id": "7079d4fc",
   "metadata": {},
   "outputs": [],
   "source": [
    "Lda = gensim.models.ldamodel.LdaModel\n",
    "ldamodel = Lda(doc_term_matrix, num_topics=10, id2word = dictionary, passes=40,\\\n",
    "               iterations=200,  chunksize = 1000, eval_every = None, random_state=0)"
   ]
  },
  {
   "cell_type": "code",
   "execution_count": 145,
   "id": "e7d5ce9a",
   "metadata": {},
   "outputs": [],
   "source": [
    "Lda2 = gensim.models.ldamodel.LdaModel\n",
    "ldamodel2 = Lda2(doc_term_matrix, num_topics=15, id2word = dictionary, passes=40,\\\n",
    "               iterations=200,  chunksize = 10000, eval_every = None, random_state=0)"
   ]
  },
  {
   "cell_type": "code",
   "execution_count": 146,
   "id": "edc8faf6",
   "metadata": {},
   "outputs": [
    {
     "data": {
      "text/plain": [
       "[(0,\n",
       "  [('shoe', 0.07682882),\n",
       "   ('coupon', 0.06532355),\n",
       "   ('bag', 0.028041597),\n",
       "   ('tag', 0.017731251),\n",
       "   ('purchase', 0.016881866),\n",
       "   ('pair', 0.014251866),\n",
       "   ('star', 0.012192325),\n",
       "   ('review', 0.011611255),\n",
       "   ('original', 0.010880284),\n",
       "   ('cheater', 0.010726035)]),\n",
       " (1,\n",
       "  [('service', 0.091162816),\n",
       "   ('customer', 0.08765892),\n",
       "   ('bad', 0.053952117),\n",
       "   ('product', 0.045941368),\n",
       "   ('issue', 0.035306614),\n",
       "   ('return', 0.022258434),\n",
       "   ('time', 0.022029215),\n",
       "   ('complaint', 0.021354664),\n",
       "   ('day', 0.021205578),\n",
       "   ('care', 0.020675944)]),\n",
       " (2,\n",
       "  [('item', 0.36057645),\n",
       "   ('slow', 0.03947377),\n",
       "   ('cart', 0.02602445),\n",
       "   ('rupee', 0.021125445),\n",
       "   ('convience', 0.013382548),\n",
       "   ('big', 0.011348919),\n",
       "   ('site', 0.010245931),\n",
       "   ('eligible', 0.00947379),\n",
       "   ('shirt', 0.008614262),\n",
       "   ('issue', 0.0076915966)]),\n",
       " (3,\n",
       "  [('wishlist', 0.03399375),\n",
       "   ('search', 0.029604713),\n",
       "   ('category', 0.024687054),\n",
       "   ('option', 0.02133215),\n",
       "   ('filter', 0.016036464),\n",
       "   ('open', 0.015058717),\n",
       "   ('way', 0.013816674),\n",
       "   ('section', 0.013135431),\n",
       "   ('update', 0.012960383),\n",
       "   ('new', 0.010655525)]),\n",
       " (4,\n",
       "  [('account', 0.05189908),\n",
       "   ('user', 0.033125315),\n",
       "   ('unable', 0.03037666),\n",
       "   ('number', 0.027626865),\n",
       "   ('new', 0.024851652),\n",
       "   ('login', 0.024613395),\n",
       "   ('phone', 0.02386358),\n",
       "   ('work', 0.022865184),\n",
       "   ('update', 0.019391512),\n",
       "   ('point', 0.016204797)]),\n",
       " (5,\n",
       "  [('customer', 0.12065324),\n",
       "   ('care', 0.050569423),\n",
       "   ('bad', 0.0490321),\n",
       "   ('service', 0.04518711),\n",
       "   ('refund', 0.031934474),\n",
       "   ('money', 0.030645907),\n",
       "   ('order', 0.028213326),\n",
       "   ('support', 0.026967501),\n",
       "   ('product', 0.019172724),\n",
       "   ('issue', 0.018730018)]),\n",
       " (6,\n",
       "  [('fee', 0.06862966),\n",
       "   ('convenience', 0.050235663),\n",
       "   ('price', 0.043098092),\n",
       "   ('charge', 0.038814228),\n",
       "   ('order', 0.035608187),\n",
       "   ('product', 0.031955324),\n",
       "   ('high', 0.023571063),\n",
       "   ('bad', 0.01933824),\n",
       "   ('discount', 0.019243179),\n",
       "   ('amount', 0.018758109)]),\n",
       " (7,\n",
       "  [('product', 0.13583343),\n",
       "   ('return', 0.06536872),\n",
       "   ('bad', 0.042718247),\n",
       "   ('exchange', 0.037431788),\n",
       "   ('time', 0.032110617),\n",
       "   ('wrong', 0.03014913),\n",
       "   ('quality', 0.025066126),\n",
       "   ('experience', 0.024762038),\n",
       "   ('delivery', 0.017589139),\n",
       "   ('size', 0.017454887)]),\n",
       " (8,\n",
       "  [('product', 0.072735205),\n",
       "   ('order', 0.043200847),\n",
       "   ('time', 0.029655555),\n",
       "   ('money', 0.02568473),\n",
       "   ('fraud', 0.0233682),\n",
       "   ('customer', 0.021698967),\n",
       "   ('issue', 0.013838315),\n",
       "   ('people', 0.0134195825),\n",
       "   ('price', 0.012916529),\n",
       "   ('payment', 0.011983654)]),\n",
       " (9,\n",
       "  [('order', 0.13050257),\n",
       "   ('delivery', 0.105396844),\n",
       "   ('bad', 0.064114295),\n",
       "   ('time', 0.057093948),\n",
       "   ('day', 0.03523968),\n",
       "   ('experience', 0.029463897),\n",
       "   ('service', 0.027418062),\n",
       "   ('date', 0.020418946),\n",
       "   ('product', 0.020241456),\n",
       "   ('customer', 0.012514628)])]"
      ]
     },
     "execution_count": 146,
     "metadata": {},
     "output_type": "execute_result"
    }
   ],
   "source": [
    "ldamodel.show_topics(10, num_words=10, formatted=False)"
   ]
  },
  {
   "cell_type": "code",
   "execution_count": 147,
   "id": "c06592c3",
   "metadata": {},
   "outputs": [
    {
     "data": {
      "text/plain": [
       "[(0,\n",
       "  [('customer', 0.07265377),\n",
       "   ('bad', 0.03999469),\n",
       "   ('day', 0.036622856),\n",
       "   ('item', 0.036042396),\n",
       "   ('service', 0.033098403),\n",
       "   ('care', 0.022496605),\n",
       "   ('time', 0.01925465),\n",
       "   ('money', 0.017530816),\n",
       "   ('pathetic', 0.016536655),\n",
       "   ('complaint', 0.016505122)]),\n",
       " (1,\n",
       "  [('service', 0.10827224),\n",
       "   ('customer', 0.068638206),\n",
       "   ('bad', 0.04551305),\n",
       "   ('refund', 0.025909238),\n",
       "   ('poor', 0.021358684),\n",
       "   ('product', 0.021219876),\n",
       "   ('day', 0.020650849),\n",
       "   ('issue', 0.017002065),\n",
       "   ('return', 0.016910274),\n",
       "   ('wrong', 0.014290424)]),\n",
       " (2,\n",
       "  [('item', 0.07748226),\n",
       "   ('charge', 0.042462233),\n",
       "   ('refund', 0.040601827),\n",
       "   ('amount', 0.036814686),\n",
       "   ('money', 0.029029882),\n",
       "   ('extra', 0.02402012),\n",
       "   ('return', 0.022521231),\n",
       "   ('discount', 0.021221275),\n",
       "   ('coupon', 0.020356385),\n",
       "   ('price', 0.018776568)]),\n",
       " (3,\n",
       "  [('fee', 0.11543958),\n",
       "   ('convenience', 0.08908229),\n",
       "   ('order', 0.04426296),\n",
       "   ('charge', 0.023715634),\n",
       "   ('product', 0.02208185),\n",
       "   ('customer', 0.016552767),\n",
       "   ('return', 0.016338816),\n",
       "   ('bad', 0.016175656),\n",
       "   ('high', 0.015896564),\n",
       "   ('platform', 0.013281087)]),\n",
       " (4,\n",
       "  [('account', 0.051182278),\n",
       "   ('bad', 0.04091188),\n",
       "   ('unable', 0.040298477),\n",
       "   ('experience', 0.030665915),\n",
       "   ('many', 0.025135703),\n",
       "   ('problem', 0.022507513),\n",
       "   ('time', 0.021828244),\n",
       "   ('issue', 0.017781388),\n",
       "   ('coupon', 0.017028883),\n",
       "   ('application', 0.016817754)]),\n",
       " (5,\n",
       "  [('customer', 0.12084667),\n",
       "   ('service', 0.060490638),\n",
       "   ('bad', 0.055809736),\n",
       "   ('care', 0.04144266),\n",
       "   ('support', 0.038313996),\n",
       "   ('order', 0.017444896),\n",
       "   ('money', 0.016411941),\n",
       "   ('response', 0.015431458),\n",
       "   ('return', 0.0151252905),\n",
       "   ('experience', 0.013887048)]),\n",
       " (6,\n",
       "  [('login', 0.022264035),\n",
       "   ('section', 0.019037083),\n",
       "   ('shop', 0.018281218),\n",
       "   ('search', 0.017943261),\n",
       "   ('password', 0.016962674),\n",
       "   ('feature', 0.01689733),\n",
       "   ('asap', 0.016639516),\n",
       "   ('jean', 0.016410597),\n",
       "   ('annoying', 0.015727378),\n",
       "   ('guy', 0.01528222)]),\n",
       " (7,\n",
       "  [('time', 0.07437438),\n",
       "   ('product', 0.05755561),\n",
       "   ('item', 0.038143296),\n",
       "   ('customer', 0.029720312),\n",
       "   ('wrong', 0.022897528),\n",
       "   ('exchange', 0.022634571),\n",
       "   ('experience', 0.022006875),\n",
       "   ('return', 0.020643476),\n",
       "   ('care', 0.019441571),\n",
       "   ('delivery', 0.01663874)]),\n",
       " (8,\n",
       "  [('customer', 0.07594248),\n",
       "   ('product', 0.07486476),\n",
       "   ('issue', 0.06683711),\n",
       "   ('care', 0.033530165),\n",
       "   ('bad', 0.03166271),\n",
       "   ('time', 0.030155018),\n",
       "   ('service', 0.026548697),\n",
       "   ('money', 0.023262406),\n",
       "   ('return', 0.015853403),\n",
       "   ('experience', 0.014761546)]),\n",
       " (9,\n",
       "  [('delivery', 0.14158055),\n",
       "   ('order', 0.06387754),\n",
       "   ('bad', 0.061753396),\n",
       "   ('time', 0.0399806),\n",
       "   ('service', 0.03890362),\n",
       "   ('customer', 0.03192498),\n",
       "   ('date', 0.026554402),\n",
       "   ('day', 0.02581254),\n",
       "   ('product', 0.022524042),\n",
       "   ('experience', 0.022278365)]),\n",
       " (10,\n",
       "  [('product', 0.16290821),\n",
       "   ('return', 0.048712604),\n",
       "   ('bad', 0.048567243),\n",
       "   ('exchange', 0.03284964),\n",
       "   ('quality', 0.028016891),\n",
       "   ('size', 0.019794796),\n",
       "   ('experience', 0.019726843),\n",
       "   ('wrong', 0.016833289),\n",
       "   ('service', 0.01631576),\n",
       "   ('time', 0.012782596)]),\n",
       " (11,\n",
       "  [('product', 0.060871597),\n",
       "   ('money', 0.0383173),\n",
       "   ('time', 0.033626378),\n",
       "   ('customer', 0.027665434),\n",
       "   ('service', 0.023369953),\n",
       "   ('fraud', 0.022168666),\n",
       "   ('return', 0.021864632),\n",
       "   ('refund', 0.02133213),\n",
       "   ('call', 0.018347248),\n",
       "   ('ticket', 0.015592547)]),\n",
       " (12,\n",
       "  [('order', 0.16940579),\n",
       "   ('customer', 0.036831338),\n",
       "   ('time', 0.034595888),\n",
       "   ('bad', 0.03162256),\n",
       "   ('experience', 0.01986899),\n",
       "   ('payment', 0.019442825),\n",
       "   ('day', 0.017771112),\n",
       "   ('service', 0.016568312),\n",
       "   ('delivery', 0.0149857),\n",
       "   ('item', 0.014601084)]),\n",
       " (13,\n",
       "  [('pickup', 0.057324905),\n",
       "   ('wishlist', 0.051203936),\n",
       "   ('slow', 0.041759104),\n",
       "   ('return', 0.04166074),\n",
       "   ('product', 0.032618556),\n",
       "   ('bad', 0.016686615),\n",
       "   ('error', 0.013909489),\n",
       "   ('frustrating', 0.013607462),\n",
       "   ('time', 0.012155822),\n",
       "   ('collection', 0.012077733)]),\n",
       " (14,\n",
       "  [('option', 0.045834884),\n",
       "   ('number', 0.042963292),\n",
       "   ('work', 0.042572256),\n",
       "   ('phone', 0.032525428),\n",
       "   ('filter', 0.023922091),\n",
       "   ('search', 0.023060314),\n",
       "   ('category', 0.02007243),\n",
       "   ('change', 0.01817538),\n",
       "   ('update', 0.015108154),\n",
       "   ('new', 0.013672208)])]"
      ]
     },
     "execution_count": 147,
     "metadata": {},
     "output_type": "execute_result"
    }
   ],
   "source": [
    "ldamodel2.show_topics(15, num_words=10, formatted=False)"
   ]
  },
  {
   "cell_type": "markdown",
   "id": "876dc4ba",
   "metadata": {},
   "source": [
    "After analysing everything we can come to a conclusion about all the cons with Myntra as per the user reviews"
   ]
  },
  {
   "cell_type": "markdown",
   "id": "5b647bdf",
   "metadata": {},
   "source": [
    "# Business Decision"
   ]
  },
  {
   "cell_type": "markdown",
   "id": "67bbefb7",
   "metadata": {},
   "source": [
    "Segmenting the identified topics into various key business aspects in order to understand them better and get suggestions for improvements"
   ]
  },
  {
   "cell_type": "markdown",
   "id": "c90d92e3",
   "metadata": {},
   "source": [
    "#### Main topics as identified by LDA\n",
    " 1.Product Integrity & Trustworthiness  \n",
    " \n",
    " 2.Customer Support & Experience  \n",
    " \n",
    " 3.Platform Usability & Navigation  \n",
    " \n",
    " 4.Pricing & Charges"
   ]
  },
  {
   "cell_type": "markdown",
   "id": "c52e207f",
   "metadata": {},
   "source": [
    "###### Product Integrity & Trustworthiness:\n",
    "\n",
    "Shoe, coupon, bag, tag, purchase, pair, star, review, original, cheater.\n",
    "Product, return, bad, exchange, time, wrong, quality, experience, delivery, size.\n",
    "Product, order, time, money, fraud, customer, issue, people, price, payment.\n",
    "\n",
    "###### Customer Support & Experience:\n",
    "\n",
    "Service, customer, bad, product, issue, return, time, complaint, day, care.\n",
    "Customer, care, bad, service, refund, money, order, support, product, issue.\n",
    "Order, delivery, bad, time, day, experience, service, date, product, customer.\n",
    "\n",
    "###### Platform Usability & Navigation:\n",
    "\n",
    "Item, slow, cart, rupee, convenience, big, site, eligible, shirt, issue.\n",
    "Wishlist, search, category, option, filter, open, way, section, update, new.\n",
    "Account, user, unable, number, new, login, phone, work, update, point.\n",
    "\n",
    "###### Pricing & Charges:\n",
    "\n",
    "Fee, convenience, price, charge, order, product, high, bad, discount, amount."
   ]
  },
  {
   "cell_type": "markdown",
   "id": "c4ddf490",
   "metadata": {},
   "source": [
    "# Suggestions for Improvement based on KPIs: "
   ]
  },
  {
   "cell_type": "code",
   "execution_count": 24,
   "id": "5903bdfe",
   "metadata": {
    "code_folding": []
   },
   "outputs": [],
   "source": [
    "text = \"\"\"#Product Integrity & Trustworthiness:\n",
    "\n",
    "   *Ensure product authenticity. Implement stricter quality control.\n",
    "   *Create a rigorous verification process for product listings.\n",
    "\n",
    "#Customer Support & Experience:\n",
    "\n",
    "   *Improve the efficiency and effectiveness of the customer support team.\n",
    "   *Invest in training the customer care team, focusing on communication and problem-solving.\n",
    "   *Monitor response times and aim for quicker solutions.\n",
    "   *Implement a more streamlined return and exchange process.\n",
    "\n",
    "#Platform Usability & Navigation:\n",
    "\n",
    "   *Optimize the website/app for a smoother and faster user experience.\n",
    "   *Enhance search and filter options for better product discovery.\n",
    "   *Simplify the cart and checkout process for a smoother buying journey.\n",
    "\n",
    "#Pricing & Charges:\n",
    "\n",
    "   *Implement competitive pricing strategies.\n",
    "   *Ensure transparency in discounts and offers.\n",
    "   *Review the pricing strategy to remain competitive and to ensure customer trust.\"\"\""
   ]
  },
  {
   "cell_type": "code",
   "execution_count": 23,
   "id": "26dff7fb",
   "metadata": {},
   "outputs": [
    {
     "name": "stdout",
     "output_type": "stream",
     "text": [
      "Collecting fpdf\n",
      "  Downloading fpdf-1.7.2.tar.gz (39 kB)\n",
      "  Preparing metadata (setup.py): started\n",
      "  Preparing metadata (setup.py): finished with status 'done'\n",
      "Building wheels for collected packages: fpdf\n",
      "  Building wheel for fpdf (setup.py): started\n",
      "  Building wheel for fpdf (setup.py): finished with status 'done'\n",
      "  Created wheel for fpdf: filename=fpdf-1.7.2-py2.py3-none-any.whl size=40705 sha256=76a2c930fcccabe1f1fe85b8b0a8cd811b7be8156a37ea91525d0f057ac801a0\n",
      "  Stored in directory: c:\\users\\khatr\\appdata\\local\\pip\\cache\\wheels\\44\\35\\8b\\86ce00cec7e4d13c5f189680ae0fa82f919bedc066c2cddae9\n",
      "Successfully built fpdf\n",
      "Installing collected packages: fpdf\n",
      "Successfully installed fpdf-1.7.2\n",
      "Note: you may need to restart the kernel to use updated packages.\n"
     ]
    }
   ],
   "source": [
    "pip install fpdf"
   ]
  },
  {
   "cell_type": "code",
   "execution_count": 26,
   "id": "b9ba5f79",
   "metadata": {},
   "outputs": [],
   "source": [
    "from fpdf import FPDF\n",
    "\n",
    "def save_text_as_pdf(text, filename):\n",
    "    pdf = FPDF()\n",
    "    pdf.add_page()\n",
    "    pdf.set_font(\"Arial\", size=12)\n",
    "\n",
    "    # Split text into lines\n",
    "    lines = text.split(\"\\n\")\n",
    "    for line in lines:\n",
    "        pdf.cell(200, 10, txt=line, ln=True)\n",
    "    \n",
    "    pdf.output(filename)\n",
    "\n",
    "\n",
    "save_text_as_pdf(text, \"output.pdf\")"
   ]
  },
  {
   "cell_type": "code",
   "execution_count": null,
   "id": "15b0c5dc",
   "metadata": {},
   "outputs": [],
   "source": []
  }
 ],
 "metadata": {
  "kernelspec": {
   "display_name": "Python 3 (ipykernel)",
   "language": "python",
   "name": "python3"
  },
  "language_info": {
   "codemirror_mode": {
    "name": "ipython",
    "version": 3
   },
   "file_extension": ".py",
   "mimetype": "text/x-python",
   "name": "python",
   "nbconvert_exporter": "python",
   "pygments_lexer": "ipython3",
   "version": "3.9.13"
  },
  "toc": {
   "base_numbering": 1,
   "nav_menu": {},
   "number_sections": true,
   "sideBar": true,
   "skip_h1_title": false,
   "title_cell": "Table of Contents",
   "title_sidebar": "Contents",
   "toc_cell": false,
   "toc_position": {},
   "toc_section_display": true,
   "toc_window_display": false
  },
  "varInspector": {
   "cols": {
    "lenName": 16,
    "lenType": 16,
    "lenVar": 40
   },
   "kernels_config": {
    "python": {
     "delete_cmd_postfix": "",
     "delete_cmd_prefix": "del ",
     "library": "var_list.py",
     "varRefreshCmd": "print(var_dic_list())"
    },
    "r": {
     "delete_cmd_postfix": ") ",
     "delete_cmd_prefix": "rm(",
     "library": "var_list.r",
     "varRefreshCmd": "cat(var_dic_list()) "
    }
   },
   "types_to_exclude": [
    "module",
    "function",
    "builtin_function_or_method",
    "instance",
    "_Feature"
   ],
   "window_display": false
  }
 },
 "nbformat": 4,
 "nbformat_minor": 5
}
